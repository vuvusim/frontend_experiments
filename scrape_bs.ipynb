{
 "cells": [
  {
   "cell_type": "code",
   "execution_count": 146,
   "metadata": {},
   "outputs": [],
   "source": [
    "from bs4 import BeautifulSoup"
   ]
  },
  {
   "cell_type": "code",
   "execution_count": 147,
   "metadata": {},
   "outputs": [
    {
     "name": "stdout",
     "output_type": "stream",
     "text": [
      "<class 'bs4.BeautifulSoup'>\n"
     ]
    }
   ],
   "source": [
    "html = \"\"\"\n",
    "<!DOCTYPE html>\n",
    "<html lang=\"en\">\n",
    "<head>\n",
    "  <meta charset=\"UTF-8\">\n",
    "  <title>First HTML Page</title>\n",
    "</head>\n",
    "<body>\n",
    "  <div id=\"first\">\n",
    "    <h3 data-example=\"yes\">hi</h3>\n",
    "    <p>more text.</p>\n",
    "  </div>\n",
    "  <ol>\n",
    "    <li class=\"special\">This list item is special.</li>\n",
    "    <li class=\"special\">This list item is also special.</li>\n",
    "    <li>This list item is not special.</li>\n",
    "  </ol>\n",
    "  <div data-example=\"yes\">bye</div>\n",
    "</body>\n",
    "</html>\n",
    "\"\"\"\n",
    "\n",
    "soup = BeautifulSoup(html, \"html.parser\")\n",
    "print(type(soup))"
   ]
  },
  {
   "cell_type": "code",
   "execution_count": 148,
   "metadata": {},
   "outputs": [
    {
     "name": "stdout",
     "output_type": "stream",
     "text": [
      "<body>\n",
      "<div id=\"first\">\n",
      "<h3 data-example=\"yes\">hi</h3>\n",
      "<p>more text.</p>\n",
      "</div>\n",
      "<ol>\n",
      "<li class=\"special\">This list item is special.</li>\n",
      "<li class=\"special\">This list item is also special.</li>\n",
      "<li>This list item is not special.</li>\n",
      "</ol>\n",
      "<div data-example=\"yes\">bye</div>\n",
      "</body>\n"
     ]
    }
   ],
   "source": [
    "print(soup.body)"
   ]
  },
  {
   "cell_type": "code",
   "execution_count": 149,
   "metadata": {},
   "outputs": [
    {
     "name": "stdout",
     "output_type": "stream",
     "text": [
      "<div id=\"first\">\n",
      "<h3 data-example=\"yes\">hi</h3>\n",
      "<p>more text.</p>\n",
      "</div>\n"
     ]
    }
   ],
   "source": [
    "print(soup.body.div)"
   ]
  },
  {
   "cell_type": "code",
   "execution_count": 150,
   "metadata": {},
   "outputs": [
    {
     "name": "stdout",
     "output_type": "stream",
     "text": [
      "<div id=\"first\">\n",
      "<h3 data-example=\"yes\">hi</h3>\n",
      "<p>more text.</p>\n",
      "</div>\n"
     ]
    }
   ],
   "source": [
    "print(soup.find('div'))"
   ]
  },
  {
   "cell_type": "code",
   "execution_count": 151,
   "metadata": {},
   "outputs": [
    {
     "name": "stdout",
     "output_type": "stream",
     "text": [
      "[<div id=\"first\">\n",
      "<h3 data-example=\"yes\">hi</h3>\n",
      "<p>more text.</p>\n",
      "</div>, <div data-example=\"yes\">bye</div>]\n"
     ]
    }
   ],
   "source": [
    "print(soup.find_all('div'))"
   ]
  },
  {
   "cell_type": "code",
   "execution_count": 152,
   "metadata": {},
   "outputs": [
    {
     "name": "stdout",
     "output_type": "stream",
     "text": [
      "<div id=\"first\">\n",
      "<h3 data-example=\"yes\">hi</h3>\n",
      "<p>more text.</p>\n",
      "</div>\n",
      "<div data-example=\"yes\">bye</div>\n"
     ]
    }
   ],
   "source": [
    "for element in soup.find_all('div'):\n",
    "    print(element)"
   ]
  },
  {
   "cell_type": "code",
   "execution_count": 153,
   "metadata": {},
   "outputs": [
    {
     "data": {
      "text/plain": [
       "[<li class=\"special\">This list item is special.</li>,\n",
       " <li class=\"special\">This list item is also special.</li>]"
      ]
     },
     "execution_count": 153,
     "metadata": {},
     "output_type": "execute_result"
    }
   ],
   "source": [
    "soup.find_all(class_='special')"
   ]
  },
  {
   "cell_type": "code",
   "execution_count": 154,
   "metadata": {},
   "outputs": [
    {
     "data": {
      "text/plain": [
       "<h3 data-example=\"yes\">hi</h3>"
      ]
     },
     "execution_count": 154,
     "metadata": {},
     "output_type": "execute_result"
    }
   ],
   "source": [
    "soup.find(attrs={'data-example': 'yes'})"
   ]
  },
  {
   "cell_type": "code",
   "execution_count": 155,
   "metadata": {},
   "outputs": [
    {
     "data": {
      "text/plain": [
       "[<h3 data-example=\"yes\">hi</h3>, <div data-example=\"yes\">bye</div>]"
      ]
     },
     "execution_count": 155,
     "metadata": {},
     "output_type": "execute_result"
    }
   ],
   "source": [
    "soup.find_all(attrs={'data-example': 'yes'})"
   ]
  },
  {
   "cell_type": "code",
   "execution_count": 156,
   "metadata": {},
   "outputs": [
    {
     "data": {
      "text/plain": [
       "[<div id=\"first\">\n",
       " <h3 data-example=\"yes\">hi</h3>\n",
       " <p>more text.</p>\n",
       " </div>,\n",
       " <div data-example=\"yes\">bye</div>]"
      ]
     },
     "execution_count": 156,
     "metadata": {},
     "output_type": "execute_result"
    }
   ],
   "source": [
    "soup.select('div')"
   ]
  },
  {
   "cell_type": "code",
   "execution_count": 157,
   "metadata": {},
   "outputs": [
    {
     "data": {
      "text/plain": [
       "[<div id=\"first\">\n",
       " <h3 data-example=\"yes\">hi</h3>\n",
       " <p>more text.</p>\n",
       " </div>]"
      ]
     },
     "execution_count": 157,
     "metadata": {},
     "output_type": "execute_result"
    }
   ],
   "source": [
    "soup.select('#first')"
   ]
  },
  {
   "cell_type": "code",
   "execution_count": 158,
   "metadata": {},
   "outputs": [
    {
     "data": {
      "text/plain": [
       "[<li class=\"special\">This list item is special.</li>,\n",
       " <li class=\"special\">This list item is also special.</li>]"
      ]
     },
     "execution_count": 158,
     "metadata": {},
     "output_type": "execute_result"
    }
   ],
   "source": [
    "soup.select('.special')"
   ]
  },
  {
   "cell_type": "code",
   "execution_count": 159,
   "metadata": {},
   "outputs": [
    {
     "data": {
      "text/plain": [
       "[<h3 data-example=\"yes\">hi</h3>, <div data-example=\"yes\">bye</div>]"
      ]
     },
     "execution_count": 159,
     "metadata": {},
     "output_type": "execute_result"
    }
   ],
   "source": [
    "soup.select('[data-example]')"
   ]
  },
  {
   "cell_type": "code",
   "execution_count": 160,
   "metadata": {},
   "outputs": [
    {
     "data": {
      "text/plain": [
       "[<li class=\"special\">This list item is special.</li>,\n",
       " <li class=\"special\">This list item is also special.</li>,\n",
       " <li>This list item is not special.</li>]"
      ]
     },
     "execution_count": 160,
     "metadata": {},
     "output_type": "execute_result"
    }
   ],
   "source": [
    "ol_li = soup.select('ol li')\n",
    "ol_li"
   ]
  },
  {
   "cell_type": "code",
   "execution_count": 161,
   "metadata": {},
   "outputs": [
    {
     "data": {
      "text/plain": [
       "'This list item is special.'"
      ]
     },
     "execution_count": 161,
     "metadata": {},
     "output_type": "execute_result"
    }
   ],
   "source": [
    "ol_li[0].get_text()"
   ]
  },
  {
   "cell_type": "code",
   "execution_count": 162,
   "metadata": {},
   "outputs": [
    {
     "name": "stdout",
     "output_type": "stream",
     "text": [
      "This list item is special.\n",
      "This list item is also special.\n",
      "This list item is not special.\n"
     ]
    }
   ],
   "source": [
    "for item in ol_li:\n",
    "    print(item.get_text())"
   ]
  },
  {
   "cell_type": "code",
   "execution_count": 163,
   "metadata": {},
   "outputs": [
    {
     "data": {
      "text/plain": [
       "['This list item is special.',\n",
       " 'This list item is also special.',\n",
       " 'This list item is not special.']"
      ]
     },
     "execution_count": 163,
     "metadata": {},
     "output_type": "execute_result"
    }
   ],
   "source": [
    "items = []\n",
    "for item in ol_li:\n",
    "    items.append(item.get_text())\n",
    "items"
   ]
  },
  {
   "cell_type": "code",
   "execution_count": 164,
   "metadata": {},
   "outputs": [
    {
     "name": "stdout",
     "output_type": "stream",
     "text": [
      "hi\n",
      "bye\n"
     ]
    }
   ],
   "source": [
    "hi_bye = soup.select('[data-example]')\n",
    "for item in hi_bye:\n",
    "    print(item.get_text())"
   ]
  },
  {
   "cell_type": "code",
   "execution_count": 165,
   "metadata": {},
   "outputs": [
    {
     "name": "stdout",
     "output_type": "stream",
     "text": [
      "yes\n",
      "yes\n"
     ]
    }
   ],
   "source": [
    "for item in hi_bye:\n",
    "    print(item.attrs['data-example'])"
   ]
  },
  {
   "cell_type": "code",
   "execution_count": 166,
   "metadata": {},
   "outputs": [
    {
     "name": "stdout",
     "output_type": "stream",
     "text": [
      "h3 yes\n",
      "div yes\n"
     ]
    }
   ],
   "source": [
    "for item in hi_bye:\n",
    "    print(item.name, item.attrs['data-example'])"
   ]
  },
  {
   "cell_type": "code",
   "execution_count": 167,
   "metadata": {},
   "outputs": [
    {
     "data": {
      "text/plain": [
       "'first'"
      ]
     },
     "execution_count": 167,
     "metadata": {},
     "output_type": "execute_result"
    }
   ],
   "source": [
    "soup.find('div').attrs['id']  # garantuotai gausime reiksme"
   ]
  },
  {
   "cell_type": "code",
   "execution_count": 168,
   "metadata": {},
   "outputs": [
    {
     "data": {
      "text/plain": [
       "'first'"
      ]
     },
     "execution_count": 168,
     "metadata": {},
     "output_type": "execute_result"
    }
   ],
   "source": [
    "soup.find('div')['id']"
   ]
  },
  {
   "cell_type": "code",
   "execution_count": 169,
   "metadata": {},
   "outputs": [
    {
     "data": {
      "text/plain": [
       "['\\n', <h3 data-example=\"yes\">hi</h3>, '\\n', <p>more text.</p>, '\\n']"
      ]
     },
     "execution_count": 169,
     "metadata": {},
     "output_type": "execute_result"
    }
   ],
   "source": [
    "soup.div.contents"
   ]
  },
  {
   "cell_type": "code",
   "execution_count": 170,
   "metadata": {},
   "outputs": [
    {
     "data": {
      "text/plain": [
       "<li class=\"special\">This list item is special.</li>"
      ]
     },
     "execution_count": 170,
     "metadata": {},
     "output_type": "execute_result"
    }
   ],
   "source": [
    "li = soup.find('li')\n",
    "li"
   ]
  },
  {
   "cell_type": "code",
   "execution_count": 171,
   "metadata": {},
   "outputs": [
    {
     "data": {
      "text/plain": [
       "['\\n',\n",
       " <li class=\"special\">This list item is special.</li>,\n",
       " '\\n',\n",
       " <li class=\"special\">This list item is also special.</li>,\n",
       " '\\n',\n",
       " <li>This list item is not special.</li>,\n",
       " '\\n']"
      ]
     },
     "execution_count": 171,
     "metadata": {},
     "output_type": "execute_result"
    }
   ],
   "source": [
    "soup.find('ol').contents"
   ]
  },
  {
   "cell_type": "code",
   "execution_count": 172,
   "metadata": {},
   "outputs": [
    {
     "data": {
      "text/plain": [
       "<li class=\"special\">This list item is also special.</li>"
      ]
     },
     "execution_count": 172,
     "metadata": {},
     "output_type": "execute_result"
    }
   ],
   "source": [
    "li.next_sibling.next_sibling"
   ]
  },
  {
   "cell_type": "code",
   "execution_count": 173,
   "metadata": {},
   "outputs": [
    {
     "data": {
      "text/plain": [
       "'This list item is special.'"
      ]
     },
     "execution_count": 173,
     "metadata": {},
     "output_type": "execute_result"
    }
   ],
   "source": [
    "li.next_element"
   ]
  },
  {
   "cell_type": "code",
   "execution_count": 174,
   "metadata": {},
   "outputs": [
    {
     "name": "stdout",
     "output_type": "stream",
     "text": [
      "\n",
      "\n",
      "<li class=\"special\">This list item is special.</li>\n",
      "This list item is special.\n",
      "\n",
      "\n",
      "<li class=\"special\">This list item is also special.</li>\n",
      "This list item is also special.\n",
      "\n",
      "\n",
      "<li>This list item is not special.</li>\n",
      "This list item is not special.\n",
      "\n",
      "\n",
      "\n",
      "\n",
      "<div data-example=\"yes\">bye</div>\n",
      "bye\n",
      "\n",
      "\n",
      "\n",
      "\n",
      "\n",
      "\n"
     ]
    }
   ],
   "source": [
    "for element in li.parent.next_elements:\n",
    "    print(element)"
   ]
  },
  {
   "cell_type": "code",
   "execution_count": 175,
   "metadata": {},
   "outputs": [
    {
     "data": {
      "text/plain": [
       "<body>\n",
       "<div id=\"first\">\n",
       "<h3 data-example=\"yes\">hi</h3>\n",
       "<p>more text.</p>\n",
       "</div>\n",
       "<ol>\n",
       "<li class=\"special\">This list item is special.</li>\n",
       "<li class=\"special\">This list item is also special.</li>\n",
       "<li>This list item is not special.</li>\n",
       "</ol>\n",
       "<div data-example=\"yes\">bye</div>\n",
       "</body>"
      ]
     },
     "execution_count": 175,
     "metadata": {},
     "output_type": "execute_result"
    }
   ],
   "source": [
    "li.parent.parent"
   ]
  },
  {
   "cell_type": "code",
   "execution_count": 176,
   "metadata": {},
   "outputs": [
    {
     "data": {
      "text/plain": [
       "[<li class=\"special\">This list item is also special.</li>,\n",
       " <li>This list item is not special.</li>]"
      ]
     },
     "execution_count": 176,
     "metadata": {},
     "output_type": "execute_result"
    }
   ],
   "source": [
    "li.find_next_siblings()"
   ]
  },
  {
   "cell_type": "code",
   "execution_count": 177,
   "metadata": {},
   "outputs": [
    {
     "data": {
      "text/plain": [
       "<li>This list item is not special.</li>"
      ]
     },
     "execution_count": 177,
     "metadata": {},
     "output_type": "execute_result"
    }
   ],
   "source": [
    "li.find_next_sibling(class_='')"
   ]
  },
  {
   "cell_type": "code",
   "execution_count": 178,
   "metadata": {},
   "outputs": [
    {
     "data": {
      "text/plain": [
       "'first'"
      ]
     },
     "execution_count": 178,
     "metadata": {},
     "output_type": "execute_result"
    }
   ],
   "source": [
    "li.find_parent().find_previous_sibling().attrs['id']   "
   ]
  },
  {
   "cell_type": "code",
   "execution_count": 179,
   "metadata": {},
   "outputs": [
    {
     "data": {
      "text/plain": [
       "'yes'"
      ]
     },
     "execution_count": 179,
     "metadata": {},
     "output_type": "execute_result"
    }
   ],
   "source": [
    "soup.body.next_element.next_element.next_element.next_element.attrs['data-example']"
   ]
  },
  {
   "cell_type": "markdown",
   "metadata": {},
   "source": [
    "surenka visas dropship parduotuves prekes is analizuoja ir randa pigiausias prekias\n"
   ]
  },
  {
   "cell_type": "code",
   "execution_count": 180,
   "metadata": {},
   "outputs": [],
   "source": [
    "import requests"
   ]
  },
  {
   "cell_type": "code",
   "execution_count": 181,
   "metadata": {},
   "outputs": [],
   "source": [
    "google = requests.get('https://google.com/')"
   ]
  },
  {
   "cell_type": "code",
   "execution_count": 182,
   "metadata": {},
   "outputs": [
    {
     "data": {
      "text/plain": [
       "200"
      ]
     },
     "execution_count": 182,
     "metadata": {},
     "output_type": "execute_result"
    }
   ],
   "source": [
    "google.status_code"
   ]
  },
  {
   "cell_type": "code",
   "execution_count": 183,
   "metadata": {},
   "outputs": [
    {
     "data": {
      "text/plain": [
       "b'<!DOCTYPE html><html lang=\"lt\" dir=\"ltr\"><head><style nonce=\"13qLraeV3MFEUQeVCLf_wA\">\\na, a:link, a:visited, a:active, a:hover {\\n  color: #1a73e8;\\n  text-decoration: none;\\n}\\nbody {\\n  font-family: Roboto,RobotoDraft,Helvetica,Arial,sans-serif;\\n  text-align: center;\\n  -ms-text-size-adjust: 100%;\\n  -moz-text-size-adjust: 100%;\\n  -webkit-text-size-adjust: 100%;\\n}\\n.box {\\n  border: 1px solid #dadce0;\\n  box-sizing: border-box;\\n  border-radius: 8px;\\n  margin: 24px auto 5px auto;\\n  max-width: 800px;\\n  padding: 24px;\\n}\\nh1 {\\n  color: #2c2c2c;\\n  font-size: 24px;\\n  hyphens: auto;\\n  margin: 24px 0;\\n}\\n.icaCallout {\\n  background-color: #f8f9fa;\\n  padding: 12px 16px;\\n  border-radius: 10px;\\n  margin-bottom: 10px;\\n}\\np, .sub, .contentText, .icaCallout {\\n  color: #5f6368;;\\n  font-size: 14px;\\n  line-height: 20px;\\n  letter-spacing: 0.2px;\\n  text-align: left;\\n}\\n.signin {\\n  text-align: right;\\n}\\n.saveButtonContainer,\\n.saveButtonContainerNarrowScreen {\\n  width: 100%;\\n  margin-top: 12px;\\n}\\n.customButtonContainer {\\n  height: 20px;\\n  padding: 8px 0;\\n  margin-top: 8px;\\n}\\n.navigationCtasYoutube {\\n  text-align: right;\\n}\\na.button {\\n  color: #fff;\\n}\\na.hairlinebutton,\\na.nolinebutton{\\n  color: #1a73e8;\\n}\\n.navigationCtasYoutube a.hairlinebutton {\\n  border-color: #1a73e8;\\n}\\nbutton, .button {\\n  background-color: #1a73e8;\\n  border: none;\\n  color: #fff;\\n}\\ninput.button {\\n  -webkit-appearance: none;\\n}\\n.basebutton {\\n  border-radius: 4px;\\n  cursor: pointer;\\n  font-family: Roboto,RobotoDraft,Helvetica,Arial,sans-serif;\\n  font-size: 14px;\\n  font-weight: 500;\\n  height: 36px;\\n  margin: 12px 4px 0;\\n  padding: 8px 24px;\\n}\\n.hairlinebutton {\\n  background-color: #fff;\\n  border-width: 1px;\\n  border-color: #dadce0;\\n  border-style: solid;\\n  max-height: 15px;\\n}\\n.error {\\n  border: 2px solid #d93025;\\n  border-radius: 5px;\\n  color: #d93025;\\n  margin: auto;\\n  padding: 5px;\\n}\\n.box a:hover, .detailspage a:hover {\\n  text-decoration: underline;\\n}\\n.footer {\\n  margin-top: 16px;\\n}\\n.footer a {\\n  margin-left: 24px;\\n  white-space: nowrap;\\n}\\n.footer a, .footer select, .footer input {\\n  color: #757575;\\n  font-size: 12px;\\n}\\n.languagepicker {\\n  display: inline-flex;\\n  margin: 2px 0;\\n}\\n#languageform,\\n#languageselect {\\n  margin: 0 2px;\\n}\\n#languageselect {\\n  color: #757575;\\n}\\n.detailspage {\\n  margin: 24px auto 0 auto;\\n  max-width: 700px;\\n}\\n.detailspage h1, .detailspage h2 {\\n  font-size: 22px\\n}\\n.setting {\\n  border: 1px solid #dadce0;\\n  box-sizing: border-box;\\n  border-radius: 8px;\\n  margin-bottom: 11px;\\n  padding: 24px 24px 20px 24px;\\n  text-align: right;\\n}\\n.sub {\\n  padding: 24px 24px 20px 24px;\\n}\\nhr {\\n  margin: 12px -24px 12px;\\n  border: 0;\\n  border-top: 1px solid #dadce0;\\n}\\nfieldset {\\n  border: none;\\n  padding: 0;\\n}\\nlabel {\\n  margin: 24px;\\n}\\ntd {\\n  vertical-align: top;\\n}\\n.setting h2, .setting h3, h4 {\\n  color: #3c4043;\\n  margin: 0;\\n  text-align: left;\\n}\\n.yt-text {\\n  color: #5f6368;\\n  font-size: 14px;\\n  font-weight: 300;\\n}\\n.productLogoContainer {\\n  margin: auto;\\n  max-width: 360px;\\n}\\n\\n/** Narrow screen (for example a mobile device). */\\n@media only screen and (max-width: 480px) {\\n  body {\\n    margin: 18px 14px;\\n  }\\n  .footer form {\\n    margin-bottom: 3px;\\n  }\\n  .imgContainer {\\n    min-width: 96px;\\n  }\\n  button, .button {\\n    width:100%;\\n  }\\n  .basebutton {\\n    margin: 12px 0 0;\\n  }\\n  .hideOnSmallWidth {\\n    display: none;\\n  }\\n  .saveButtonContainerNarrowScreen {\\n    display: inline-block;\\n  }\\n  .saveButtonContainer {\\n    display: none;\\n  }\\n  .navigationCtasYoutube a.hairlinebutton {\\n    display: block;\\n    text-align: center;\\n  }\\n}\\n\\n@media only screen and (max-width: 380px) {\\n  .imgContainer {\\n    min-width: 72px;\\n  }\\n}\\n\\n/** Normal/non-narrow screen. */\\n@media not screen and (max-width: 480px) {\\n  body {\\n    margin: 18px 25px;\\n  }\\n  .footer form {\\n    display: inline;\\n  }\\n  .imgContainer {\\n    width: 51%;\\n  }\\n  button, .button {\\n    width: auto;\\n  }\\n  .searchButton {\\n    min-width: 182px;\\n  }\\n  .hideOnNormalWidth {\\n    display: none;\\n  }\\n  .saveButtonContainer {\\n    display: inline-block;\\n  }\\n  .saveButtonContainerNarrowScreen {\\n    display: none;\\n  }\\n}\\n</style><title>Prie\\xc5\\xa1 pereidami \\xc4\\xaf \\xe2\\x80\\x9eGoogle\\xe2\\x80\\x9c paie\\xc5\\xa1k\\xc4\\x85</title><meta name=\"viewport\" content=\"initial-scale=1, maximum-scale=5, width=device-width\"><link rel=\"shortcut icon\" href=\"//www.google.com/favicon.ico\"></head><body><div class=\"signin\"><a href=\"https://accounts.google.com/ServiceLogin?hl=lt&amp;continue=https://www.google.com/&amp;gae=cb-none\" class=\"basebutton hairlinebutton\">Prisijunkite</a></div><div class=\"box\"><img src=\"//www.gstatic.com/images/branding/googlelogo/1x/googlelogo_color_68x28dp.png\" srcset=\"//www.gstatic.com/images/branding/googlelogo/2x/googlelogo_color_68x28dp.png 2x\" width=\"68\" height=\"28\" alt=\"Google\"><h1>Prie\\xc5\\xa1 pereinant \\xc4\\xaf \\xe2\\x80\\x9eGoogle\\xe2\\x80\\x9c</h1><div class=\"contentText\">Naudojame <a href=\"https://policies.google.com/technologies/cookies?hl=lt&utm_source=ucb\" target=\"_blank\">slapukus</a> ir duomenis, kad gal\\xc4\\x97tume\\xe2\\x80\\xa6<ul><li>Teikti ir pri\\xc5\\xbei\\xc5\\xabr\\xc4\\x97ti \\xe2\\x80\\x9eGoogle\\xe2\\x80\\x9c paslaugas</li><li>Steb\\xc4\\x97ti triktis ir apsaugoti nuo \\xc5\\xa1lam\\xc5\\xa1to, apgaul\\xc4\\x97s bei piktnaud\\xc5\\xbeiavimo</li><li>\\xc4\\xaevertinti auditorij\\xc5\\xb3 \\xc4\\xafsitraukim\\xc4\\x85 bei svetaini\\xc5\\xb3 statistik\\xc4\\x85, kad b\\xc5\\xabt\\xc5\\xb3 galima suprasti, kaip naudojamos m\\xc5\\xabs\\xc5\\xb3 paslaugos, ir gerinti j\\xc5\\xb3 kokyb\\xc4\\x99</li></ul>Jei pasirinksite \\xe2\\x80\\x9ePriimti visk\\xc4\\x85\\xe2\\x80\\x9c, taip pat naudosime slapukus ir duomenis, kad gal\\xc4\\x97tume\\xe2\\x80\\xa6<ul><li>Kurti ir tobulinti naujas paslaugas</li><li>Teikti skelbimus ir \\xc4\\xafvertinti j\\xc5\\xb3 efektyvum\\xc4\\x85</li><li>Rodyti suasmenint\\xc4\\x85 turin\\xc4\\xaf, atsi\\xc5\\xbevelgiant \\xc4\\xaf j\\xc5\\xabs\\xc5\\xb3 nustatymus</li><li>Rodyti suasmenintus skelbimus, atsi\\xc5\\xbevelgiant \\xc4\\xaf j\\xc5\\xabs\\xc5\\xb3 nustatymus</li></ul><div>Jei pasirinksite \\xe2\\x80\\x9eAtmesti visk\\xc4\\x85\\xe2\\x80\\x9c, slapuk\\xc5\\xb3 \\xc5\\xa1iais papildomais tikslais nenaudosime.</div><br><div>Nesuasmenintam turiniui turi \\xc4\\xaftakos tokie dalykai kaip turinys, kur\\xc4\\xaf tuo metu per\\xc5\\xbei\\xc5\\xabrite, veikla per j\\xc5\\xabs\\xc5\\xb3 aktyvi\\xc4\\x85 paie\\xc5\\xa1kos seans\\xc4\\x85 ir j\\xc5\\xabs\\xc5\\xb3 vietov\\xc4\\x97. Nesuasmenintiems skelbimams turi \\xc4\\xaftakos turinys, kur\\xc4\\xaf tuo metu per\\xc5\\xbei\\xc5\\xabrite, ir j\\xc5\\xabs\\xc5\\xb3 bendroji vietov\\xc4\\x97s informacija. Suasmenintas turinys ir skelbimai taip pat gali apimti aktualesnius rezultatus, rekomendacijas ir pritaikytus skelbimus pagal ankstesn\\xc4\\x99 veikl\\xc4\\x85 i\\xc5\\xa1 \\xc5\\xa1ios nar\\xc5\\xa1ykl\\xc4\\x97s, pvz., ankstesnes \\xe2\\x80\\x9eGoogle\\xe2\\x80\\x9c paie\\xc5\\xa1kas. Taip pat naudojame slapukus ir duomenis, siekdami pritaikyti funkcijas pagal am\\xc5\\xbei\\xc5\\xb3 (jei taikoma).</div><br>Pasirinkite \\xe2\\x80\\x9eDaugiau parink\\xc4\\x8di\\xc5\\xb3\\xe2\\x80\\x9c, jei norite matyti papildom\\xc4\\x85 informacij\\xc4\\x85, \\xc4\\xafskaitant i\\xc5\\xa1sami\\xc4\\x85 informacij\\xc4\\x85 apie privatumo nustatym\\xc5\\xb3 valdym\\xc4\\x85. Be to, bet kada galite apsilankyti adresu g.co/privacytools.</div><div class=\"saveButtonContainer\"><form action=\"https://consent.google.com/save\" method=\"POST\" style=\"display:inline;\"><input type=\"hidden\" name=\"bl\" value=\"boq_identityfrontenduiserver_20221025.05_p0\"><input type=\"hidden\" name=\"x\" value=\"8\"><input type=\"hidden\" name=\"gl\" value=\"LT\"><input type=\"hidden\" name=\"m\" value=\"0\"><input type=\"hidden\" name=\"pc\" value=\"shp\"><input type=\"hidden\" name=\"continue\" value=\"https://www.google.com/\"><input type=\"hidden\" name=\"hl\" value=\"lt\"><input type=\"hidden\" name=\"uxe\" value=\"none\"><input type=\"hidden\" name=\"set_eom\" value=\"true\"><input type=\"submit\" value=\"Atmesti visk\\xc4\\x85\" class=\"basebutton button searchButton\" aria-label=\"Atmesti visk\\xc4\\x85\"/></form><form action=\"https://consent.google.com/save\" method=\"POST\" style=\"display:inline;\"><input type=\"hidden\" name=\"bl\" value=\"boq_identityfrontenduiserver_20221025.05_p0\"><input type=\"hidden\" name=\"x\" value=\"8\"><input type=\"hidden\" name=\"gl\" value=\"LT\"><input type=\"hidden\" name=\"m\" value=\"0\"><input type=\"hidden\" name=\"pc\" value=\"shp\"><input type=\"hidden\" name=\"continue\" value=\"https://www.google.com/\"><input type=\"hidden\" name=\"hl\" value=\"lt\"><input type=\"hidden\" name=\"uxe\" value=\"none\"><input type=\"hidden\" name=\"set_eom\" value=\"false\"><input type=\"hidden\" name=\"set_sc\" value=\"true\"><input type=\"hidden\" name=\"set_aps\" value=\"true\"><input type=\"submit\" value=\"Priimti visk\\xc4\\x85\" class=\"basebutton button searchButton\" aria-label=\"Priimti visk\\xc4\\x85\"/></form></div><div class=\"saveButtonContainerNarrowScreen\"><form action=\"https://consent.google.com/save\" method=\"POST\" style=\"display:block;\"><input type=\"hidden\" name=\"bl\" value=\"boq_identityfrontenduiserver_20221025.05_p0\"><input type=\"hidden\" name=\"x\" value=\"8\"><input type=\"hidden\" name=\"gl\" value=\"LT\"><input type=\"hidden\" name=\"m\" value=\"0\"><input type=\"hidden\" name=\"pc\" value=\"shp\"><input type=\"hidden\" name=\"continue\" value=\"https://www.google.com/\"><input type=\"hidden\" name=\"hl\" value=\"lt\"><input type=\"hidden\" name=\"uxe\" value=\"none\"><input type=\"hidden\" name=\"set_eom\" value=\"false\"><input type=\"hidden\" name=\"set_sc\" value=\"true\"><input type=\"hidden\" name=\"set_aps\" value=\"true\"><input type=\"submit\" value=\"Priimti visk\\xc4\\x85\" class=\"basebutton button searchButton\" aria-label=\"Priimti visk\\xc4\\x85\"/></form><form action=\"https://consent.google.com/save\" method=\"POST\" style=\"display:block;\"><input type=\"hidden\" name=\"bl\" value=\"boq_identityfrontenduiserver_20221025.05_p0\"><input type=\"hidden\" name=\"x\" value=\"8\"><input type=\"hidden\" name=\"gl\" value=\"LT\"><input type=\"hidden\" name=\"m\" value=\"0\"><input type=\"hidden\" name=\"pc\" value=\"shp\"><input type=\"hidden\" name=\"continue\" value=\"https://www.google.com/\"><input type=\"hidden\" name=\"hl\" value=\"lt\"><input type=\"hidden\" name=\"uxe\" value=\"none\"><input type=\"hidden\" name=\"set_eom\" value=\"true\"><input type=\"submit\" value=\"Atmesti visk\\xc4\\x85\" class=\"basebutton button searchButton\" aria-label=\"Atmesti visk\\xc4\\x85\"/></form></div><div class=\"customButtonContainer\"><a href=\"https://consent.google.com/dl?continue=https://www.google.com/&amp;gl=LT&amp;hl=lt&amp;pc=shp&amp;uxe=none&amp;src=1\" class=\"basebutton nolinebutton\">Daugiau parink\\xc4\\x8di\\xc5\\xb3</a></div></div><div class=\"footer\"><form action=\"https://consent.google.com/ml\" method=\"get\"><select id=\"languageselect\" name=\"hl\"><option value=\"af\">Afrikaans</option><option value=\"az\">az\\xc9\\x99rbaycan</option><option value=\"bs\">bosanski</option><option value=\"ca\">catal\\xc3\\xa0</option><option value=\"cs\">\\xc4\\x8ce\\xc5\\xa1tina</option><option value=\"cy\">Cymraeg</option><option value=\"da\">Dansk</option><option value=\"de\">Deutsch</option><option value=\"et\">eesti</option><option value=\"en-GB\">English&nbsp;(United Kingdom)</option><option value=\"en\">English&nbsp;(United States)</option><option value=\"es\">Espa\\xc3\\xb1ol&nbsp;(Espa\\xc3\\xb1a)</option><option value=\"es-419\">Espa\\xc3\\xb1ol&nbsp;(Latinoam\\xc3\\xa9rica)</option><option value=\"eu\">euskara</option><option value=\"fil\">Filipino</option><option value=\"fr-CA\">Fran\\xc3\\xa7ais&nbsp;(Canada)</option><option value=\"fr\">Fran\\xc3\\xa7ais&nbsp;(France)</option><option value=\"ga\">Gaeilge</option><option value=\"gl\">galego</option><option value=\"hr\">Hrvatski</option><option value=\"id\">Indonesia</option><option value=\"zu\">isiZulu</option><option value=\"is\">\\xc3\\xadslenska</option><option value=\"it\">Italiano</option><option value=\"sw\">Kiswahili</option><option value=\"lv\">latvie\\xc5\\xa1u</option><option value=\"lt\" selected>lietuvi\\xc5\\xb3</option><option value=\"hu\">magyar</option><option value=\"ms\">Melayu</option><option value=\"nl\">Nederlands</option><option value=\"no\">norsk</option><option value=\"uz\">o\\xe2\\x80\\x98zbek</option><option value=\"pl\">polski</option><option value=\"pt-BR\">Portugu\\xc3\\xaas&nbsp;(Brasil)</option><option value=\"pt-PT\">Portugu\\xc3\\xaas&nbsp;(Portugal)</option><option value=\"ro\">rom\\xc3\\xa2n\\xc4\\x83</option><option value=\"sq\">shqip</option><option value=\"sk\">Sloven\\xc4\\x8dina</option><option value=\"sl\">sloven\\xc5\\xa1\\xc4\\x8dina</option><option value=\"sr-Latn\">srpski (latinica)</option><option value=\"fi\">Suomi</option><option value=\"sv\">Svenska</option><option value=\"vi\">Ti\\xe1\\xba\\xbfng Vi\\xe1\\xbb\\x87t</option><option value=\"tr\">T\\xc3\\xbcrk\\xc3\\xa7e</option><option value=\"el\">\\xce\\x95\\xce\\xbb\\xce\\xbb\\xce\\xb7\\xce\\xbd\\xce\\xb9\\xce\\xba\\xce\\xac</option><option value=\"be\">\\xd0\\xb1\\xd0\\xb5\\xd0\\xbb\\xd0\\xb0\\xd1\\x80\\xd1\\x83\\xd1\\x81\\xd0\\xba\\xd0\\xb0\\xd1\\x8f</option><option value=\"bg\">\\xd0\\xb1\\xd1\\x8a\\xd0\\xbb\\xd0\\xb3\\xd0\\xb0\\xd1\\x80\\xd1\\x81\\xd0\\xba\\xd0\\xb8</option><option value=\"ky\">\\xd0\\xba\\xd1\\x8b\\xd1\\x80\\xd0\\xb3\\xd1\\x8b\\xd0\\xb7\\xd1\\x87\\xd0\\xb0</option><option value=\"kk\">\\xd2\\x9b\\xd0\\xb0\\xd0\\xb7\\xd0\\xb0\\xd2\\x9b \\xd1\\x82\\xd1\\x96\\xd0\\xbb\\xd1\\x96</option><option value=\"mk\">\\xd0\\xbc\\xd0\\xb0\\xd0\\xba\\xd0\\xb5\\xd0\\xb4\\xd0\\xbe\\xd0\\xbd\\xd1\\x81\\xd0\\xba\\xd0\\xb8</option><option value=\"mn\">\\xd0\\xbc\\xd0\\xbe\\xd0\\xbd\\xd0\\xb3\\xd0\\xbe\\xd0\\xbb</option><option value=\"ru\">\\xd0\\xa0\\xd1\\x83\\xd1\\x81\\xd1\\x81\\xd0\\xba\\xd0\\xb8\\xd0\\xb9</option><option value=\"sr\">\\xd1\\x81\\xd1\\x80\\xd0\\xbf\\xd1\\x81\\xd0\\xba\\xd0\\xb8</option><option value=\"uk\">\\xd0\\xa3\\xd0\\xba\\xd1\\x80\\xd0\\xb0\\xd1\\x97\\xd0\\xbd\\xd1\\x81\\xd1\\x8c\\xd0\\xba\\xd0\\xb0</option><option value=\"ka\">\\xe1\\x83\\xa5\\xe1\\x83\\x90\\xe1\\x83\\xa0\\xe1\\x83\\x97\\xe1\\x83\\xa3\\xe1\\x83\\x9a\\xe1\\x83\\x98</option><option value=\"hy\">\\xd5\\xb0\\xd5\\xa1\\xd5\\xb5\\xd5\\xa5\\xd6\\x80\\xd5\\xa5\\xd5\\xb6</option><option value=\"iw\">\\xd7\\xa2\\xd7\\x91\\xd7\\xa8\\xd7\\x99\\xd7\\xaa</option><option value=\"ur\">\\xd8\\xa7\\xd8\\xb1\\xd8\\xaf\\xd9\\x88</option><option value=\"ar\">\\xd8\\xa7\\xd9\\x84\\xd8\\xb9\\xd8\\xb1\\xd8\\xa8\\xd9\\x8a\\xd8\\xa9</option><option value=\"fa\">\\xd9\\x81\\xd8\\xa7\\xd8\\xb1\\xd8\\xb3\\xdb\\x8c</option><option value=\"am\">\\xe1\\x8a\\xa0\\xe1\\x88\\x9b\\xe1\\x88\\xad\\xe1\\x8a\\x9b</option><option value=\"ne\">\\xe0\\xa4\\xa8\\xe0\\xa5\\x87\\xe0\\xa4\\xaa\\xe0\\xa4\\xbe\\xe0\\xa4\\xb2\\xe0\\xa5\\x80</option><option value=\"mr\">\\xe0\\xa4\\xae\\xe0\\xa4\\xb0\\xe0\\xa4\\xbe\\xe0\\xa4\\xa0\\xe0\\xa5\\x80</option><option value=\"hi\">\\xe0\\xa4\\xb9\\xe0\\xa4\\xbf\\xe0\\xa4\\xa8\\xe0\\xa5\\x8d\\xe0\\xa4\\xa6\\xe0\\xa5\\x80</option><option value=\"as\">\\xe0\\xa6\\x85\\xe0\\xa6\\xb8\\xe0\\xa6\\xae\\xe0\\xa7\\x80\\xe0\\xa6\\xaf\\xe0\\xa6\\xbc\\xe0\\xa6\\xbe</option><option value=\"bn\">\\xe0\\xa6\\xac\\xe0\\xa6\\xbe\\xe0\\xa6\\x82\\xe0\\xa6\\xb2\\xe0\\xa6\\xbe</option><option value=\"pa\">\\xe0\\xa8\\xaa\\xe0\\xa9\\xb0\\xe0\\xa8\\x9c\\xe0\\xa8\\xbe\\xe0\\xa8\\xac\\xe0\\xa9\\x80</option><option value=\"gu\">\\xe0\\xaa\\x97\\xe0\\xab\\x81\\xe0\\xaa\\x9c\\xe0\\xaa\\xb0\\xe0\\xaa\\xbe\\xe0\\xaa\\xa4\\xe0\\xab\\x80</option><option value=\"or\">\\xe0\\xac\\x93\\xe0\\xac\\xa1\\xe0\\xac\\xbc\\xe0\\xac\\xbf\\xe0\\xac\\x86</option><option value=\"ta\">\\xe0\\xae\\xa4\\xe0\\xae\\xae\\xe0\\xae\\xbf\\xe0\\xae\\xb4\\xe0\\xaf\\x8d</option><option value=\"te\">\\xe0\\xb0\\xa4\\xe0\\xb1\\x86\\xe0\\xb0\\xb2\\xe0\\xb1\\x81\\xe0\\xb0\\x97\\xe0\\xb1\\x81</option><option value=\"kn\">\\xe0\\xb2\\x95\\xe0\\xb2\\xa8\\xe0\\xb3\\x8d\\xe0\\xb2\\xa8\\xe0\\xb2\\xa1</option><option value=\"ml\">\\xe0\\xb4\\xae\\xe0\\xb4\\xb2\\xe0\\xb4\\xaf\\xe0\\xb4\\xbe\\xe0\\xb4\\xb3\\xe0\\xb4\\x82</option><option value=\"si\">\\xe0\\xb7\\x83\\xe0\\xb7\\x92\\xe0\\xb6\\x82\\xe0\\xb7\\x84\\xe0\\xb6\\xbd</option><option value=\"th\">\\xe0\\xb9\\x84\\xe0\\xb8\\x97\\xe0\\xb8\\xa2</option><option value=\"lo\">\\xe0\\xba\\xa5\\xe0\\xba\\xb2\\xe0\\xba\\xa7</option><option value=\"my\">\\xe1\\x80\\x99\\xe1\\x80\\xbc\\xe1\\x80\\x94\\xe1\\x80\\xba\\xe1\\x80\\x99\\xe1\\x80\\xac</option><option value=\"km\">\\xe1\\x9e\\x81\\xe1\\x9f\\x92\\xe1\\x9e\\x98\\xe1\\x9f\\x82\\xe1\\x9e\\x9a</option><option value=\"ko\">\\xed\\x95\\x9c\\xea\\xb5\\xad\\xec\\x96\\xb4</option><option value=\"ja\">\\xe6\\x97\\xa5\\xe6\\x9c\\xac\\xe8\\xaa\\x9e</option><option value=\"zh-CN\">\\xe7\\xae\\x80\\xe4\\xbd\\x93\\xe4\\xb8\\xad\\xe6\\x96\\x87</option><option value=\"zh-TW\">\\xe7\\xb9\\x81\\xe9\\xab\\x94\\xe4\\xb8\\xad\\xe6\\x96\\x87</option><option value=\"zh-HK\">\\xe7\\xb9\\x81\\xe9\\xab\\x94\\xe4\\xb8\\xad\\xe6\\x96\\x87&nbsp;(\\xe9\\xa6\\x99\\xe6\\xb8\\xaf)</option></select><input type=\"hidden\" name=\"oldhl\" value=\"lt\"><input type=\"hidden\" name=\"gl\" value=\"LT\"><input type=\"hidden\" name=\"m\" value=\"0\"><input type=\"hidden\" name=\"pc\" value=\"shp\"><input type=\"hidden\" name=\"continue\" value=\"https://www.google.com/\"><input type=\"hidden\" name=\"src\" value=\"1\"><input type=\"submit\" value=\"Kalbos keitimas\"></form><a href=\"https://policies.google.com/privacy?hl=lt&utm_source=ucb\">Privatumo politika</a> <a href=\"https://policies.google.com/terms?hl=lt&utm_source=ucb\">Paslaug\\xc5\\xb3 teikimo s\\xc4\\x85lygos</a></div></body></html>'"
      ]
     },
     "execution_count": 183,
     "metadata": {},
     "output_type": "execute_result"
    }
   ],
   "source": [
    "google.content"
   ]
  },
  {
   "cell_type": "code",
   "execution_count": 184,
   "metadata": {},
   "outputs": [],
   "source": [
    "if google.status_code == 200:\n",
    "    google_soup = BeautifulSoup(google.content, 'html.parser')\n",
    "else:\n",
    "    google_soup = google.status_code"
   ]
  },
  {
   "cell_type": "code",
   "execution_count": 185,
   "metadata": {},
   "outputs": [
    {
     "data": {
      "text/plain": [
       "'//www.gstatic.com/images/branding/googlelogo/1x/googlelogo_color_68x28dp.png'"
      ]
     },
     "execution_count": 185,
     "metadata": {},
     "output_type": "execute_result"
    }
   ],
   "source": [
    "google_soup.body.select('.box')[0].select_one('img').attrs['src']"
   ]
  },
  {
   "cell_type": "code",
   "execution_count": 186,
   "metadata": {},
   "outputs": [],
   "source": [
    "ratrace = requests.get('https://ratrace.lt/')"
   ]
  },
  {
   "cell_type": "code",
   "execution_count": 187,
   "metadata": {},
   "outputs": [
    {
     "data": {
      "text/plain": [
       "403"
      ]
     },
     "execution_count": 187,
     "metadata": {},
     "output_type": "execute_result"
    }
   ],
   "source": [
    "ratrace.status_code"
   ]
  },
  {
   "cell_type": "code",
   "execution_count": 188,
   "metadata": {},
   "outputs": [
    {
     "data": {
      "text/plain": [
       "200"
      ]
     },
     "execution_count": 188,
     "metadata": {},
     "output_type": "execute_result"
    }
   ],
   "source": [
    "python = requests.get('https://python.org/')\n",
    "python.status_code"
   ]
  },
  {
   "cell_type": "code",
   "execution_count": 189,
   "metadata": {},
   "outputs": [
    {
     "data": {
      "text/plain": [
       "<body class=\"python home\" id=\"homepage\">\n",
       "<div id=\"touchnav-wrapper\">\n",
       "<div class=\"do-not-print\" id=\"nojs\">\n",
       "<p><strong>Notice:</strong> While JavaScript is not essential for this website, your interaction with the content will be limited. Please turn JavaScript on for the full experience. </p>\n",
       "</div>\n",
       "<!--[if lte IE 8]>\n",
       "        <div id=\"oldie-warning\" class=\"do-not-print\">\n",
       "            <p>\n",
       "                <strong>Notice:</strong> Your browser is <em>ancient</em>. Please\n",
       "                <a href=\"http://browsehappy.com/\">upgrade to a different browser</a> to experience a better web.\n",
       "            </p>\n",
       "        </div>\n",
       "        <![endif]-->\n",
       "<!-- Sister Site Links -->\n",
       "<div class=\"top-bar do-not-print\" id=\"top\">\n",
       "<nav class=\"meta-navigation container\" role=\"navigation\">\n",
       "<div class=\"skip-link screen-reader-text\">\n",
       "<a href=\"#content\" title=\"Skip to content\">Skip to content</a>\n",
       "</div>\n",
       "<a aria-hidden=\"true\" class=\"jump-link\" href=\"#python-network\" id=\"close-python-network\">\n",
       "<span aria-hidden=\"true\" class=\"icon-arrow-down\"><span>▼</span></span> Close\n",
       "                </a>\n",
       "<ul class=\"menu\" role=\"tree\">\n",
       "<li class=\"python-meta current_item selectedcurrent_branch selected\">\n",
       "<a class=\"current_item selectedcurrent_branch selected\" href=\"/\" title=\"The Python Programming Language\">Python</a>\n",
       "</li>\n",
       "<li class=\"psf-meta\">\n",
       "<a href=\"/psf-landing/\" title=\"The Python Software Foundation\">PSF</a>\n",
       "</li>\n",
       "<li class=\"docs-meta\">\n",
       "<a href=\"https://docs.python.org\" title=\"Python Documentation\">Docs</a>\n",
       "</li>\n",
       "<li class=\"pypi-meta\">\n",
       "<a href=\"https://pypi.org/\" title=\"Python Package Index\">PyPI</a>\n",
       "</li>\n",
       "<li class=\"jobs-meta\">\n",
       "<a href=\"/jobs/\" title=\"Python Job Board\">Jobs</a>\n",
       "</li>\n",
       "<li class=\"shop-meta\">\n",
       "<a href=\"/community-landing/\">Community</a>\n",
       "</li>\n",
       "</ul>\n",
       "<a aria-hidden=\"true\" class=\"jump-link\" href=\"#top\" id=\"python-network\">\n",
       "<span aria-hidden=\"true\" class=\"icon-arrow-up\"><span>▲</span></span> The Python Network\n",
       "                </a>\n",
       "</nav>\n",
       "</div>\n",
       "<!-- Header elements -->\n",
       "<header class=\"main-header\" role=\"banner\">\n",
       "<div class=\"container\">\n",
       "<h1 class=\"site-headline\">\n",
       "<a href=\"/\"><img alt=\"python™\" class=\"python-logo\" src=\"/static/img/python-logo.png\"/></a>\n",
       "</h1>\n",
       "<div class=\"options-bar-container do-not-print\">\n",
       "<a class=\"donate-button\" href=\"https://psfmember.org/civicrm/contribute/transact?reset=1&amp;id=2\">Donate</a>\n",
       "<div class=\"options-bar\">\n",
       "<a class=\"jump-to-menu\" href=\"#site-map\" id=\"site-map-link\"><span class=\"menu-icon\">≡</span> Menu</a><form action=\"/search/\" class=\"search-the-site\" method=\"get\">\n",
       "<fieldset title=\"Search Python.org\">\n",
       "<span aria-hidden=\"true\" class=\"icon-search\"></span>\n",
       "<label class=\"screen-reader-text\" for=\"id-search-field\">Search This Site</label>\n",
       "<input class=\"search-field\" id=\"id-search-field\" name=\"q\" placeholder=\"Search\" role=\"textbox\" tabindex=\"1\" type=\"search\" value=\"\"/>\n",
       "<button class=\"search-button\" id=\"submit\" name=\"submit\" tabindex=\"3\" title=\"Submit this Search\" type=\"submit\">\n",
       "                                    GO\n",
       "                                </button>\n",
       "<!--[if IE]><input type=\"text\" style=\"display: none;\" disabled=\"disabled\" size=\"1\" tabindex=\"4\"><![endif]-->\n",
       "</fieldset>\n",
       "</form><span class=\"breaker\"></span><div aria-hidden=\"true\" class=\"adjust-font-size\">\n",
       "<ul aria-label=\"Adjust Text Size on Page\" class=\"navigation menu\">\n",
       "<li aria-haspopup=\"true\" class=\"tier-1 last\">\n",
       "<a class=\"action-trigger\" href=\"#\"><strong><small>A</small> A</strong></a>\n",
       "<ul class=\"subnav menu\">\n",
       "<li class=\"tier-2 element-1\" role=\"treeitem\"><a class=\"text-shrink\" href=\"javascript:;\" title=\"Make Text Smaller\">Smaller</a></li>\n",
       "<li class=\"tier-2 element-2\" role=\"treeitem\"><a class=\"text-grow\" href=\"javascript:;\" title=\"Make Text Larger\">Larger</a></li>\n",
       "<li class=\"tier-2 element-3\" role=\"treeitem\"><a class=\"text-reset\" href=\"javascript:;\" title=\"Reset any font size changes I have made\">Reset</a></li>\n",
       "</ul>\n",
       "</li>\n",
       "</ul>\n",
       "</div><div class=\"winkwink-nudgenudge\">\n",
       "<ul aria-label=\"Social Media Navigation\" class=\"navigation menu\">\n",
       "<li aria-haspopup=\"true\" class=\"tier-1 last\">\n",
       "<a class=\"action-trigger\" href=\"#\">Socialize</a>\n",
       "<ul class=\"subnav menu\">\n",
       "<li class=\"tier-2 element-1\" role=\"treeitem\"><a href=\"https://www.facebook.com/pythonlang?fref=ts\"><span aria-hidden=\"true\" class=\"icon-facebook\"></span>Facebook</a></li>\n",
       "<li class=\"tier-2 element-2\" role=\"treeitem\"><a href=\"https://twitter.com/ThePSF\"><span aria-hidden=\"true\" class=\"icon-twitter\"></span>Twitter</a></li>\n",
       "<li class=\"tier-2 element-3\" role=\"treeitem\"><a href=\"/community/irc/\"><span aria-hidden=\"true\" class=\"icon-freenode\"></span>Chat on IRC</a></li>\n",
       "</ul>\n",
       "</li>\n",
       "</ul>\n",
       "</div>\n",
       "<span data-html-include=\"/authenticated\"></span>\n",
       "</div><!-- end options-bar -->\n",
       "</div>\n",
       "<nav class=\"python-navigation main-navigation do-not-print\" id=\"mainnav\" role=\"navigation\">\n",
       "<ul aria-label=\"Main Navigation\" class=\"navigation menu\" role=\"menubar\">\n",
       "<li aria-haspopup=\"true\" class=\"tier-1 element-1\" id=\"about\">\n",
       "<a class=\"\" href=\"/about/\" title=\"\">About</a>\n",
       "<ul aria-hidden=\"true\" class=\"subnav menu\" role=\"menu\">\n",
       "<li class=\"tier-2 element-1\" role=\"treeitem\"><a href=\"/about/apps/\" title=\"\">Applications</a></li>\n",
       "<li class=\"tier-2 element-2\" role=\"treeitem\"><a href=\"/about/quotes/\" title=\"\">Quotes</a></li>\n",
       "<li class=\"tier-2 element-3\" role=\"treeitem\"><a href=\"/about/gettingstarted/\" title=\"\">Getting Started</a></li>\n",
       "<li class=\"tier-2 element-4\" role=\"treeitem\"><a href=\"/about/help/\" title=\"\">Help</a></li>\n",
       "<li class=\"tier-2 element-5\" role=\"treeitem\"><a href=\"http://brochure.getpython.info/\" title=\"\">Python Brochure</a></li>\n",
       "</ul>\n",
       "</li>\n",
       "<li aria-haspopup=\"true\" class=\"tier-1 element-2\" id=\"downloads\">\n",
       "<a class=\"\" href=\"/downloads/\" title=\"\">Downloads</a>\n",
       "<ul aria-hidden=\"true\" class=\"subnav menu\" role=\"menu\">\n",
       "<li class=\"tier-2 element-1\" role=\"treeitem\"><a href=\"/downloads/\" title=\"\">All releases</a></li>\n",
       "<li class=\"tier-2 element-2\" role=\"treeitem\"><a href=\"/downloads/source/\" title=\"\">Source code</a></li>\n",
       "<li class=\"tier-2 element-3\" role=\"treeitem\"><a href=\"/downloads/windows/\" title=\"\">Windows</a></li>\n",
       "<li class=\"tier-2 element-4\" role=\"treeitem\"><a href=\"/downloads/macos/\" title=\"\">macOS</a></li>\n",
       "<li class=\"tier-2 element-5\" role=\"treeitem\"><a href=\"/download/other/\" title=\"\">Other Platforms</a></li>\n",
       "<li class=\"tier-2 element-6\" role=\"treeitem\"><a href=\"https://docs.python.org/3/license.html\" title=\"\">License</a></li>\n",
       "<li class=\"tier-2 element-7\" role=\"treeitem\"><a href=\"/download/alternatives\" title=\"\">Alternative Implementations</a></li>\n",
       "</ul>\n",
       "</li>\n",
       "<li aria-haspopup=\"true\" class=\"tier-1 element-3\" id=\"documentation\">\n",
       "<a class=\"\" href=\"/doc/\" title=\"\">Documentation</a>\n",
       "<ul aria-hidden=\"true\" class=\"subnav menu\" role=\"menu\">\n",
       "<li class=\"tier-2 element-1\" role=\"treeitem\"><a href=\"/doc/\" title=\"\">Docs</a></li>\n",
       "<li class=\"tier-2 element-2\" role=\"treeitem\"><a href=\"/doc/av\" title=\"\">Audio/Visual Talks</a></li>\n",
       "<li class=\"tier-2 element-3\" role=\"treeitem\"><a href=\"https://wiki.python.org/moin/BeginnersGuide\" title=\"\">Beginner's Guide</a></li>\n",
       "<li class=\"tier-2 element-4\" role=\"treeitem\"><a href=\"https://devguide.python.org/\" title=\"\">Developer's Guide</a></li>\n",
       "<li class=\"tier-2 element-5\" role=\"treeitem\"><a href=\"https://docs.python.org/faq/\" title=\"\">FAQ</a></li>\n",
       "<li class=\"tier-2 element-6\" role=\"treeitem\"><a href=\"http://wiki.python.org/moin/Languages\" title=\"\">Non-English Docs</a></li>\n",
       "<li class=\"tier-2 element-7\" role=\"treeitem\"><a href=\"http://python.org/dev/peps/\" title=\"\">PEP Index</a></li>\n",
       "<li class=\"tier-2 element-8\" role=\"treeitem\"><a href=\"https://wiki.python.org/moin/PythonBooks\" title=\"\">Python Books</a></li>\n",
       "<li class=\"tier-2 element-9\" role=\"treeitem\"><a href=\"/doc/essays/\" title=\"\">Python Essays</a></li>\n",
       "</ul>\n",
       "</li>\n",
       "<li aria-haspopup=\"true\" class=\"tier-1 element-4\" id=\"community\">\n",
       "<a class=\"\" href=\"/community/\" title=\"\">Community</a>\n",
       "<ul aria-hidden=\"true\" class=\"subnav menu\" role=\"menu\">\n",
       "<li class=\"tier-2 element-1\" role=\"treeitem\"><a href=\"/community/diversity/\" title=\"\">Diversity</a></li>\n",
       "<li class=\"tier-2 element-2\" role=\"treeitem\"><a href=\"/community/lists/\" title=\"\">Mailing Lists</a></li>\n",
       "<li class=\"tier-2 element-3\" role=\"treeitem\"><a href=\"/community/irc/\" title=\"\">IRC</a></li>\n",
       "<li class=\"tier-2 element-4\" role=\"treeitem\"><a href=\"/community/forums/\" title=\"\">Forums</a></li>\n",
       "<li class=\"tier-2 element-5\" role=\"treeitem\"><a href=\"/psf/annual-report/2021/\" title=\"\">PSF Annual Impact Report</a></li>\n",
       "<li class=\"tier-2 element-6\" role=\"treeitem\"><a href=\"/community/workshops/\" title=\"\">Python Conferences</a></li>\n",
       "<li class=\"tier-2 element-7\" role=\"treeitem\"><a href=\"/community/sigs/\" title=\"\">Special Interest Groups</a></li>\n",
       "<li class=\"tier-2 element-8\" role=\"treeitem\"><a href=\"/community/logos/\" title=\"\">Python Logo</a></li>\n",
       "<li class=\"tier-2 element-9\" role=\"treeitem\"><a href=\"https://wiki.python.org/moin/\" title=\"\">Python Wiki</a></li>\n",
       "<li class=\"tier-2 element-10\" role=\"treeitem\"><a href=\"/community/merchandise/\" title=\"\">Merchandise</a></li>\n",
       "<li class=\"tier-2 element-11\" role=\"treeitem\"><a href=\"/community/awards\" title=\"\">Community Awards</a></li>\n",
       "<li class=\"tier-2 element-12\" role=\"treeitem\"><a href=\"/psf/conduct/\" title=\"\">Code of Conduct</a></li>\n",
       "<li class=\"tier-2 element-13\" role=\"treeitem\"><a href=\"/psf/get-involved/\" title=\"\">Get Involved</a></li>\n",
       "<li class=\"tier-2 element-14\" role=\"treeitem\"><a href=\"/psf/community-stories/\" title=\"\">Shared Stories</a></li>\n",
       "</ul>\n",
       "</li>\n",
       "<li aria-haspopup=\"true\" class=\"tier-1 element-5\" id=\"success-stories\">\n",
       "<a class=\"\" href=\"/success-stories/\" title=\"success-stories\">Success Stories</a>\n",
       "<ul aria-hidden=\"true\" class=\"subnav menu\" role=\"menu\">\n",
       "<li class=\"tier-2 element-1\" role=\"treeitem\"><a href=\"/success-stories/category/arts/\" title=\"\">Arts</a></li>\n",
       "<li class=\"tier-2 element-2\" role=\"treeitem\"><a href=\"/success-stories/category/business/\" title=\"\">Business</a></li>\n",
       "<li class=\"tier-2 element-3\" role=\"treeitem\"><a href=\"/success-stories/category/education/\" title=\"\">Education</a></li>\n",
       "<li class=\"tier-2 element-4\" role=\"treeitem\"><a href=\"/success-stories/category/engineering/\" title=\"\">Engineering</a></li>\n",
       "<li class=\"tier-2 element-5\" role=\"treeitem\"><a href=\"/success-stories/category/government/\" title=\"\">Government</a></li>\n",
       "<li class=\"tier-2 element-6\" role=\"treeitem\"><a href=\"/success-stories/category/scientific/\" title=\"\">Scientific</a></li>\n",
       "<li class=\"tier-2 element-7\" role=\"treeitem\"><a href=\"/success-stories/category/software-development/\" title=\"\">Software Development</a></li>\n",
       "</ul>\n",
       "</li>\n",
       "<li aria-haspopup=\"true\" class=\"tier-1 element-6\" id=\"news\">\n",
       "<a class=\"\" href=\"/blogs/\" title=\"News from around the Python world\">News</a>\n",
       "<ul aria-hidden=\"true\" class=\"subnav menu\" role=\"menu\">\n",
       "<li class=\"tier-2 element-1\" role=\"treeitem\"><a href=\"/blogs/\" title=\"Python Insider Blog Posts\">Python News</a></li>\n",
       "<li class=\"tier-2 element-2\" role=\"treeitem\"><a href=\"/psf/newsletter/\" title=\"Python Software Foundation Newsletter\">PSF Newsletter</a></li>\n",
       "<li class=\"tier-2 element-3\" role=\"treeitem\"><a href=\"http://planetpython.org/\" title=\"Planet Python\">Community News</a></li>\n",
       "<li class=\"tier-2 element-4\" role=\"treeitem\"><a href=\"http://pyfound.blogspot.com/\" title=\"PSF Blog\">PSF News</a></li>\n",
       "<li class=\"tier-2 element-5\" role=\"treeitem\"><a href=\"http://pycon.blogspot.com/\" title=\"PyCon Blog\">PyCon News</a></li>\n",
       "</ul>\n",
       "</li>\n",
       "<li aria-haspopup=\"true\" class=\"tier-1 element-7\" id=\"events\">\n",
       "<a class=\"\" href=\"/events/\" title=\"\">Events</a>\n",
       "<ul aria-hidden=\"true\" class=\"subnav menu\" role=\"menu\">\n",
       "<li class=\"tier-2 element-1\" role=\"treeitem\"><a href=\"/events/python-events/\" title=\"\">Python Events</a></li>\n",
       "<li class=\"tier-2 element-2\" role=\"treeitem\"><a href=\"/events/python-user-group/\" title=\"\">User Group Events</a></li>\n",
       "<li class=\"tier-2 element-3\" role=\"treeitem\"><a href=\"/events/python-events/past/\" title=\"\">Python Events Archive</a></li>\n",
       "<li class=\"tier-2 element-4\" role=\"treeitem\"><a href=\"/events/python-user-group/past/\" title=\"\">User Group Events Archive</a></li>\n",
       "<li class=\"tier-2 element-5\" role=\"treeitem\"><a href=\"https://wiki.python.org/moin/PythonEventsCalendar#Submitting_an_Event\" title=\"\">Submit an Event</a></li>\n",
       "</ul>\n",
       "</li>\n",
       "</ul>\n",
       "</nav>\n",
       "<div class=\"header-banner\"> <!-- for optional \"do-not-print\" class -->\n",
       "<div class=\"flex-slideshow slideshow\" id=\"dive-into-python\">\n",
       "<ul class=\"launch-shell menu\" id=\"launch-shell\">\n",
       "<li>\n",
       "<a class=\"button prompt\" data-shell-container=\"#dive-into-python\" href=\"/shell/\" id=\"start-shell\">&gt;_\n",
       "                        <span class=\"message\">Launch Interactive Shell</span>\n",
       "</a>\n",
       "</li>\n",
       "</ul>\n",
       "<ul class=\"slides menu\">\n",
       "<li>\n",
       "<div class=\"slide-code\"><pre><code><span class=\"comment\"># Python 3: Fibonacci series up to n</span>\n",
       "&gt;&gt;&gt; def fib(n):\n",
       "&gt;&gt;&gt;     a, b = 0, 1\n",
       "&gt;&gt;&gt;     while a &lt; n:\n",
       "&gt;&gt;&gt;         print(a, end=' ')\n",
       "&gt;&gt;&gt;         a, b = b, a+b\n",
       "&gt;&gt;&gt;     print()\n",
       "&gt;&gt;&gt; fib(1000)\n",
       "<span class=\"output\">0 1 1 2 3 5 8 13 21 34 55 89 144 233 377 610 987</span></code></pre></div>\n",
       "<div class=\"slide-copy\"><h1>Functions Defined</h1>\n",
       "<p>The core of extensible programming is defining functions. Python allows mandatory and optional arguments, keyword arguments, and even arbitrary argument lists. <a href=\"//docs.python.org/3/tutorial/controlflow.html#defining-functions\">More about defining functions in Python 3</a></p></div>\n",
       "</li>\n",
       "<li>\n",
       "<div class=\"slide-code\"><pre><code><span class=\"comment\"># Python 3: List comprehensions</span>\n",
       "&gt;&gt;&gt; fruits = ['Banana', 'Apple', 'Lime']\n",
       "&gt;&gt;&gt; loud_fruits = [fruit.upper() for fruit in fruits]\n",
       "&gt;&gt;&gt; print(loud_fruits)\n",
       "<span class=\"output\">['BANANA', 'APPLE', 'LIME']</span>\n",
       "\n",
       "<span class=\"comment\"># List and the enumerate function</span>\n",
       "&gt;&gt;&gt; list(enumerate(fruits))\n",
       "<span class=\"output\">[(0, 'Banana'), (1, 'Apple'), (2, 'Lime')]</span></code></pre></div>\n",
       "<div class=\"slide-copy\"><h1>Compound Data Types</h1>\n",
       "<p>Lists (known as arrays in other languages) are one of the compound data types that Python understands. Lists can be indexed, sliced and manipulated with other built-in functions. <a href=\"//docs.python.org/3/tutorial/introduction.html#lists\">More about lists in Python 3</a></p></div>\n",
       "</li>\n",
       "<li>\n",
       "<div class=\"slide-code\"><pre><code><span class=\"comment\"># Python 3: Simple arithmetic</span>\n",
       "&gt;&gt;&gt; 1 / 2\n",
       "<span class=\"output\">0.5</span>\n",
       "&gt;&gt;&gt; 2 ** 3\n",
       "<span class=\"output\">8</span>\n",
       "&gt;&gt;&gt; 17 / 3  <span class=\"comment\"># classic division returns a float</span>\n",
       "<span class=\"output\">5.666666666666667</span>\n",
       "&gt;&gt;&gt; 17 // 3  <span class=\"comment\"># floor division</span>\n",
       "<span class=\"output\">5</span></code></pre></div>\n",
       "<div class=\"slide-copy\"><h1>Intuitive Interpretation</h1>\n",
       "<p>Calculations are simple with Python, and expression syntax is straightforward: the operators <code>+</code>, <code>-</code>, <code>*</code> and <code>/</code> work as expected; parentheses <code>()</code> can be used for grouping. <a href=\"http://docs.python.org/3/tutorial/introduction.html#using-python-as-a-calculator\">More about simple math functions in Python 3</a>.</p></div>\n",
       "</li>\n",
       "<li>\n",
       "<div class=\"slide-code\"><pre><code><span class=\"comment\"># Python 3: Simple output (with Unicode)</span>\n",
       "&gt;&gt;&gt; print(\"Hello, I'm Python!\")\n",
       "<span class=\"output\">Hello, I'm Python!</span>\n",
       "\n",
       "<span class=\"comment\"># Input, assignment</span>\n",
       "&gt;&gt;&gt; name = input('What is your name?\\n')\n",
       "&gt;&gt;&gt; print('Hi, %s.' % name)\n",
       "<span class=\"output\">What is your name?\n",
       "Python\n",
       "Hi, Python.</span></code></pre></div>\n",
       "<div class=\"slide-copy\"><h1>Quick &amp; Easy to Learn</h1>\n",
       "<p>Experienced programmers in any other language can pick up Python very quickly, and beginners find the clean syntax and indentation structure easy to learn. <a href=\"//docs.python.org/3/tutorial/\">Whet your appetite</a> with our Python 3 overview.</p>\n",
       "</div>\n",
       "</li>\n",
       "<li>\n",
       "<div class=\"slide-code\"><pre><code><span class=\"comment\"># For loop on a list</span>\n",
       "&gt;&gt;&gt; numbers = [2, 4, 6, 8]\n",
       "&gt;&gt;&gt; product = 1\n",
       "&gt;&gt;&gt; for number in numbers:\n",
       "...    product = product * number\n",
       "... \n",
       "&gt;&gt;&gt; print('The product is:', product)\n",
       "<span class=\"output\">The product is: 384</span></code></pre></div>\n",
       "<div class=\"slide-copy\"><h1>All the Flow You’d Expect</h1>\n",
       "<p>Python knows the usual control flow statements that other languages speak — <code>if</code>, <code>for</code>, <code>while</code> and <code>range</code> — with some of its own twists, of course. <a href=\"//docs.python.org/3/tutorial/controlflow.html\">More control flow tools in Python 3</a></p></div>\n",
       "</li>\n",
       "</ul>\n",
       "</div>\n",
       "</div>\n",
       "<div class=\"introduction\">\n",
       "<p>Python is a programming language that lets you work quickly <span class=\"breaker\"></span>and integrate systems more effectively. <a class=\"readmore\" href=\"/doc/\">Learn More</a></p>\n",
       "</div>\n",
       "</div><!-- end .container -->\n",
       "</header>\n",
       "<div class=\"content-wrapper\" id=\"content\">\n",
       "<!-- Main Content Column -->\n",
       "<div class=\"container\">\n",
       "<section class=\"main-content\" role=\"main\">\n",
       "<div class=\"notification-bar notification-bar--survey\" style=\"background-color: #ffdf76; color: #664e04; border-color: #004d7a; text-align: center; background-color: #004d7a; color: #fff; padding: 10px; margin: .5em; position: relative; width: 95%; background-color: #ffdf76; color: #664e04; border-color: #004d7a; border-radius: 1em;\">\n",
       "<span class=\"notification-bar__icon\">\n",
       "<i aria-hidden=\"true\" class=\"fa fa-chart-line\"></i>\n",
       "</span>\n",
       "<span class=\"notification-bar__message\">Join the official Python Developers Survey 2022 and win valuable prizes: Start the Survey!   <a class=\"button button--dark button--small button--primary\" href=\"https://surveys.jetbrains.com/s3/c2-python-developers-survey-2022\" rel=\"noopener\" style=\"color: #606060; border-color: #006dad; background-color: #006dad;\" target=\"_blank\">Python Developers Survey 2022</a>\n",
       "</span>\n",
       "</div>\n",
       "<div class=\"row\">\n",
       "<div class=\"small-widget get-started-widget\">\n",
       "<h2 class=\"widget-title\"><span aria-hidden=\"true\" class=\"icon-get-started\"></span>Get Started</h2>\n",
       "<p>Whether you're new to programming or an experienced developer, it's easy to learn and use Python.</p>\n",
       "<p><a href=\"/about/gettingstarted/\">Start with our Beginner’s Guide</a></p>\n",
       "</div>\n",
       "<div class=\"small-widget download-widget\">\n",
       "<h2 class=\"widget-title\"><span aria-hidden=\"true\" class=\"icon-download\"></span>Download</h2>\n",
       "<p>Python source code and installers are available for download for all versions!</p>\n",
       "<p>Latest: <a href=\"/downloads/release/python-3110/\">Python 3.11.0</a></p>\n",
       "</div>\n",
       "<div class=\"small-widget documentation-widget\">\n",
       "<h2 class=\"widget-title\"><span aria-hidden=\"true\" class=\"icon-documentation\"></span>Docs</h2>\n",
       "<p>Documentation for Python's standard library, along with tutorials and guides, are available online.</p>\n",
       "<p><a href=\"https://docs.python.org\">docs.python.org</a></p>\n",
       "</div>\n",
       "<div class=\"small-widget jobs-widget last\">\n",
       "<h2 class=\"widget-title\"><span aria-hidden=\"true\" class=\"icon-jobs\"></span>Jobs</h2>\n",
       "<p>Looking for work or have a Python related position that you're trying to hire for? Our <strong>relaunched community-run job board</strong> is the place to go.</p>\n",
       "<p><a href=\"//jobs.python.org\">jobs.python.org</a></p>\n",
       "</div>\n",
       "</div>\n",
       "<div class=\"list-widgets row\">\n",
       "<div class=\"medium-widget blog-widget\">\n",
       "<div class=\"shrubbery\">\n",
       "<h2 class=\"widget-title\"><span aria-hidden=\"true\" class=\"icon-news\"></span>Latest News</h2>\n",
       "<p class=\"give-me-more\"><a href=\"https://blog.python.org\" title=\"More News\">More</a></p>\n",
       "<ul class=\"menu\">\n",
       "<li>\n",
       "<time datetime=\"2022-11-01T19:25:00.000001+00:00\"><span class=\"say-no-more\">2022-</span>11-01</time>\n",
       "<a href=\"https://pyfound.blogspot.com/2022/11/thank-you-for-making-pycon-us-amazing.html\">Thank You for Making PyCon US amazing, Jackie!</a></li>\n",
       "<li>\n",
       "<time datetime=\"2022-10-26T16:09:00.000002+00:00\"><span class=\"say-no-more\">2022-</span>10-26</time>\n",
       "<a href=\"https://pyfound.blogspot.com/2022/10/announcing-python-software-foundation.html\">Announcing Python Software Foundation Fellow Members for Q3 2022! 🎉</a></li>\n",
       "<li>\n",
       "<time datetime=\"2022-10-25T18:34:53.000001+00:00\"><span class=\"say-no-more\">2022-</span>10-25</time>\n",
       "<a href=\"https://mailchi.mp/python/psf-nov-15542325\">Python Software Foundation - October 2022 Newsletter</a></li>\n",
       "<li>\n",
       "<time datetime=\"2022-10-25T04:00:00.000001+00:00\"><span class=\"say-no-more\">2022-</span>10-25</time>\n",
       "<a href=\"https://pythoninsider.blogspot.com/2022/10/python-3120-alpha-1-released.html\">Python 3.12.0 alpha 1 released</a></li>\n",
       "<li>\n",
       "<time datetime=\"2022-10-24T20:29:00+00:00\"><span class=\"say-no-more\">2022-</span>10-24</time>\n",
       "<a href=\"https://pythoninsider.blogspot.com/2022/10/python-3110-is-now-available.html\">Python 3.11.0 is now available</a></li>\n",
       "</ul>\n",
       "</div><!-- end .shrubbery -->\n",
       "</div>\n",
       "<div class=\"medium-widget event-widget last\">\n",
       "<div class=\"shrubbery\">\n",
       "<h2 class=\"widget-title\"><span aria-hidden=\"true\" class=\"icon-calendar\"></span>Upcoming Events</h2>\n",
       "<p class=\"give-me-more\"><a href=\"/events/calendars/\" title=\"More Events\">More</a></p>\n",
       "<ul class=\"menu\">\n",
       "<li>\n",
       "<time datetime=\"2022-11-05T11:00:00+00:00\"><span class=\"say-no-more\">2022-</span>11-05</time>\n",
       "<a href=\"/events/python-user-group/1374/\">Python Day Grupy RN</a></li>\n",
       "<li>\n",
       "<time datetime=\"2022-11-12T00:00:00+00:00\"><span class=\"say-no-more\">2022-</span>11-12</time>\n",
       "<a href=\"/events/python-events/1320/\">PyCon Ireland 2022</a></li>\n",
       "<li>\n",
       "<time datetime=\"2022-11-15T00:00:00+00:00\"><span class=\"say-no-more\">2022-</span>11-15</time>\n",
       "<a href=\"/events/python-events/1378/\">PyChain 2022</a></li>\n",
       "<li>\n",
       "<time datetime=\"2022-11-26T00:00:00+00:00\"><span class=\"say-no-more\">2022-</span>11-26</time>\n",
       "<a href=\"/events/python-events/1331/\">Pyjamas Conf 2022</a></li>\n",
       "<li>\n",
       "<time datetime=\"2022-11-26T08:00:00+00:00\"><span class=\"say-no-more\">2022-</span>11-26</time>\n",
       "<a href=\"/events/python-user-group/1335/\">Django Girls Groningen</a></li>\n",
       "</ul>\n",
       "</div>\n",
       "</div>\n",
       "</div>\n",
       "<div class=\"row\">\n",
       "<div class=\"medium-widget success-stories-widget\">\n",
       "<div class=\"shrubbery\">\n",
       "<h2 class=\"widget-title\"><span aria-hidden=\"true\" class=\"icon-success-stories\"></span>Success Stories</h2>\n",
       "<p class=\"give-me-more\"><a href=\"/success-stories/\" title=\"More Success Stories\">More</a></p>\n",
       "<div class=\"success-story-item\" id=\"success-story-1101\">\n",
       "<blockquote>\n",
       "<a href=\"/success-stories/a-startup-healthcare-tech-firm-is-now-poised-for-the-future/\">“We feel much better equipped now to handle the challenges. And if we run into an issue, we’ll come to Caktus to hammer it out,\" said Stephen Johnston, VP of Engineering, at Force Therapeutics.</a>\n",
       "</blockquote>\n",
       "<table border=\"0\" cellpadding=\"0\" cellspacing=\"0\" class=\"quote-from\" width=\"100%\">\n",
       "<tbody>\n",
       "<tr>\n",
       "<td><p><a href=\"/success-stories/a-startup-healthcare-tech-firm-is-now-poised-for-the-future/\">A Startup Healthcare Tech Firm Is Now Poised for the Future</a> <em>by Caktus Group</em></p></td>\n",
       "</tr>\n",
       "</tbody>\n",
       "</table>\n",
       "</div>\n",
       "</div><!-- end .shrubbery -->\n",
       "</div>\n",
       "<div class=\"medium-widget applications-widget last\">\n",
       "<div class=\"shrubbery\">\n",
       "<h2 class=\"widget-title\"><span aria-hidden=\"true\" class=\"icon-python\"></span>Use Python for…</h2>\n",
       "<p class=\"give-me-more\"><a href=\"/about/apps\" title=\"More Applications\">More</a></p>\n",
       "<ul class=\"menu\">\n",
       "<li><b>Web Development</b>:\n",
       "        <span class=\"tag-wrapper\"><a class=\"tag\" href=\"http://www.djangoproject.com/\">Django</a>, <a class=\"tag\" href=\"http://www.pylonsproject.org/\">Pyramid</a>, <a class=\"tag\" href=\"http://bottlepy.org\">Bottle</a>, <a class=\"tag\" href=\"http://tornadoweb.org\">Tornado</a>, <a class=\"tag\" href=\"http://flask.pocoo.org/\">Flask</a>, <a class=\"tag\" href=\"http://www.web2py.com/\">web2py</a></span></li>\n",
       "<li><b>GUI Development</b>:\n",
       "        <span class=\"tag-wrapper\"><a class=\"tag\" href=\"http://wiki.python.org/moin/TkInter\">tkInter</a>, <a class=\"tag\" href=\"https://wiki.gnome.org/Projects/PyGObject\">PyGObject</a>, <a class=\"tag\" href=\"http://www.riverbankcomputing.co.uk/software/pyqt/intro\">PyQt</a>, <a class=\"tag\" href=\"https://wiki.qt.io/PySide\">PySide</a>, <a class=\"tag\" href=\"https://kivy.org/\">Kivy</a>, <a class=\"tag\" href=\"http://www.wxpython.org/\">wxPython</a></span></li>\n",
       "<li><b>Scientific and Numeric</b>:\n",
       "        <span class=\"tag-wrapper\">\n",
       "<a class=\"tag\" href=\"http://www.scipy.org\">SciPy</a>, <a class=\"tag\" href=\"http://pandas.pydata.org/\">Pandas</a>, <a class=\"tag\" href=\"http://ipython.org\">IPython</a></span></li>\n",
       "<li><b>Software Development</b>:\n",
       "        <span class=\"tag-wrapper\"><a class=\"tag\" href=\"http://buildbot.net/\">Buildbot</a>, <a class=\"tag\" href=\"http://trac.edgewall.org/\">Trac</a>, <a class=\"tag\" href=\"http://roundup.sourceforge.net/\">Roundup</a></span></li>\n",
       "<li><b>System Administration</b>:\n",
       "        <span class=\"tag-wrapper\"><a class=\"tag\" href=\"http://www.ansible.com\">Ansible</a>, <a class=\"tag\" href=\"https://saltproject.io\">Salt</a>, <a class=\"tag\" href=\"https://www.openstack.org\">OpenStack</a>, <a class=\"tag\" href=\"https://xon.sh\">xonsh</a></span></li>\n",
       "</ul>\n",
       "</div><!-- end .shrubbery -->\n",
       "</div>\n",
       "</div>\n",
       "<div class=\"pep-widget\">\n",
       "<h2 class=\"widget-title\">\n",
       "<span class=\"prompt\">&gt;&gt;&gt;</span> <a href=\"/dev/peps/\">Python Enhancement Proposals<span class=\"say-no-more\"> (PEPs)</span></a>: The future of Python<span class=\"say-no-more\"> is discussed here.</span>\n",
       "<a aria-hidden=\"true\" class=\"rss-link\" href=\"/dev/peps/peps.rss\"><span class=\"icon-feed\"></span> RSS</a>\n",
       "</h2>\n",
       "</div>\n",
       "<div class=\"psf-widget\">\n",
       "<div class=\"python-logo\"></div>\n",
       "<h2 class=\"widget-title\">\n",
       "<span class=\"prompt\">&gt;&gt;&gt;</span> <a href=\"/psf/\">Python Software Foundation</a>\n",
       "</h2>\n",
       "<p>The mission of the Python Software Foundation is to promote, protect, and advance the Python programming language, and to support and facilitate the growth of a diverse and international community of Python programmers. <a class=\"readmore\" href=\"/psf/\">Learn more</a> </p>\n",
       "<p class=\"click-these\">\n",
       "<a class=\"button\" href=\"/users/membership/\">Become a Member</a>\n",
       "<a class=\"button\" href=\"/psf/donations/\">Donate to the PSF</a>\n",
       "</p>\n",
       "</div>\n",
       "</section>\n",
       "</div><!-- end .container -->\n",
       "</div><!-- end #content .content-wrapper -->\n",
       "<!-- Footer and social media list -->\n",
       "<footer class=\"main-footer\" id=\"site-map\" role=\"contentinfo\">\n",
       "<div class=\"main-footer-links\">\n",
       "<div class=\"container\">\n",
       "<a class=\"jump-link\" href=\"#python-network\" id=\"back-to-top-1\"><span aria-hidden=\"true\" class=\"icon-arrow-up\"><span>▲</span></span> Back to Top</a>\n",
       "<ul class=\"sitemap navigation menu do-not-print\" id=\"container\" role=\"tree\">\n",
       "<li class=\"tier-1 element-1\">\n",
       "<a href=\"/about/\">About</a>\n",
       "<ul class=\"subnav menu\">\n",
       "<li class=\"tier-2 element-1\" role=\"treeitem\"><a href=\"/about/apps/\" title=\"\">Applications</a></li>\n",
       "<li class=\"tier-2 element-2\" role=\"treeitem\"><a href=\"/about/quotes/\" title=\"\">Quotes</a></li>\n",
       "<li class=\"tier-2 element-3\" role=\"treeitem\"><a href=\"/about/gettingstarted/\" title=\"\">Getting Started</a></li>\n",
       "<li class=\"tier-2 element-4\" role=\"treeitem\"><a href=\"/about/help/\" title=\"\">Help</a></li>\n",
       "<li class=\"tier-2 element-5\" role=\"treeitem\"><a href=\"http://brochure.getpython.info/\" title=\"\">Python Brochure</a></li>\n",
       "</ul>\n",
       "</li>\n",
       "<li class=\"tier-1 element-2\">\n",
       "<a href=\"/downloads/\">Downloads</a>\n",
       "<ul class=\"subnav menu\">\n",
       "<li class=\"tier-2 element-1\" role=\"treeitem\"><a href=\"/downloads/\" title=\"\">All releases</a></li>\n",
       "<li class=\"tier-2 element-2\" role=\"treeitem\"><a href=\"/downloads/source/\" title=\"\">Source code</a></li>\n",
       "<li class=\"tier-2 element-3\" role=\"treeitem\"><a href=\"/downloads/windows/\" title=\"\">Windows</a></li>\n",
       "<li class=\"tier-2 element-4\" role=\"treeitem\"><a href=\"/downloads/macos/\" title=\"\">macOS</a></li>\n",
       "<li class=\"tier-2 element-5\" role=\"treeitem\"><a href=\"/download/other/\" title=\"\">Other Platforms</a></li>\n",
       "<li class=\"tier-2 element-6\" role=\"treeitem\"><a href=\"https://docs.python.org/3/license.html\" title=\"\">License</a></li>\n",
       "<li class=\"tier-2 element-7\" role=\"treeitem\"><a href=\"/download/alternatives\" title=\"\">Alternative Implementations</a></li>\n",
       "</ul>\n",
       "</li>\n",
       "<li class=\"tier-1 element-3\">\n",
       "<a href=\"/doc/\">Documentation</a>\n",
       "<ul class=\"subnav menu\">\n",
       "<li class=\"tier-2 element-1\" role=\"treeitem\"><a href=\"/doc/\" title=\"\">Docs</a></li>\n",
       "<li class=\"tier-2 element-2\" role=\"treeitem\"><a href=\"/doc/av\" title=\"\">Audio/Visual Talks</a></li>\n",
       "<li class=\"tier-2 element-3\" role=\"treeitem\"><a href=\"https://wiki.python.org/moin/BeginnersGuide\" title=\"\">Beginner's Guide</a></li>\n",
       "<li class=\"tier-2 element-4\" role=\"treeitem\"><a href=\"https://devguide.python.org/\" title=\"\">Developer's Guide</a></li>\n",
       "<li class=\"tier-2 element-5\" role=\"treeitem\"><a href=\"https://docs.python.org/faq/\" title=\"\">FAQ</a></li>\n",
       "<li class=\"tier-2 element-6\" role=\"treeitem\"><a href=\"http://wiki.python.org/moin/Languages\" title=\"\">Non-English Docs</a></li>\n",
       "<li class=\"tier-2 element-7\" role=\"treeitem\"><a href=\"http://python.org/dev/peps/\" title=\"\">PEP Index</a></li>\n",
       "<li class=\"tier-2 element-8\" role=\"treeitem\"><a href=\"https://wiki.python.org/moin/PythonBooks\" title=\"\">Python Books</a></li>\n",
       "<li class=\"tier-2 element-9\" role=\"treeitem\"><a href=\"/doc/essays/\" title=\"\">Python Essays</a></li>\n",
       "</ul>\n",
       "</li>\n",
       "<li class=\"tier-1 element-4\">\n",
       "<a href=\"/community/\">Community</a>\n",
       "<ul class=\"subnav menu\">\n",
       "<li class=\"tier-2 element-1\" role=\"treeitem\"><a href=\"/community/diversity/\" title=\"\">Diversity</a></li>\n",
       "<li class=\"tier-2 element-2\" role=\"treeitem\"><a href=\"/community/lists/\" title=\"\">Mailing Lists</a></li>\n",
       "<li class=\"tier-2 element-3\" role=\"treeitem\"><a href=\"/community/irc/\" title=\"\">IRC</a></li>\n",
       "<li class=\"tier-2 element-4\" role=\"treeitem\"><a href=\"/community/forums/\" title=\"\">Forums</a></li>\n",
       "<li class=\"tier-2 element-5\" role=\"treeitem\"><a href=\"/psf/annual-report/2021/\" title=\"\">PSF Annual Impact Report</a></li>\n",
       "<li class=\"tier-2 element-6\" role=\"treeitem\"><a href=\"/community/workshops/\" title=\"\">Python Conferences</a></li>\n",
       "<li class=\"tier-2 element-7\" role=\"treeitem\"><a href=\"/community/sigs/\" title=\"\">Special Interest Groups</a></li>\n",
       "<li class=\"tier-2 element-8\" role=\"treeitem\"><a href=\"/community/logos/\" title=\"\">Python Logo</a></li>\n",
       "<li class=\"tier-2 element-9\" role=\"treeitem\"><a href=\"https://wiki.python.org/moin/\" title=\"\">Python Wiki</a></li>\n",
       "<li class=\"tier-2 element-10\" role=\"treeitem\"><a href=\"/community/merchandise/\" title=\"\">Merchandise</a></li>\n",
       "<li class=\"tier-2 element-11\" role=\"treeitem\"><a href=\"/community/awards\" title=\"\">Community Awards</a></li>\n",
       "<li class=\"tier-2 element-12\" role=\"treeitem\"><a href=\"/psf/conduct/\" title=\"\">Code of Conduct</a></li>\n",
       "<li class=\"tier-2 element-13\" role=\"treeitem\"><a href=\"/psf/get-involved/\" title=\"\">Get Involved</a></li>\n",
       "<li class=\"tier-2 element-14\" role=\"treeitem\"><a href=\"/psf/community-stories/\" title=\"\">Shared Stories</a></li>\n",
       "</ul>\n",
       "</li>\n",
       "<li class=\"tier-1 element-5\">\n",
       "<a href=\"/success-stories/\" title=\"success-stories\">Success Stories</a>\n",
       "<ul class=\"subnav menu\">\n",
       "<li class=\"tier-2 element-1\" role=\"treeitem\"><a href=\"/success-stories/category/arts/\" title=\"\">Arts</a></li>\n",
       "<li class=\"tier-2 element-2\" role=\"treeitem\"><a href=\"/success-stories/category/business/\" title=\"\">Business</a></li>\n",
       "<li class=\"tier-2 element-3\" role=\"treeitem\"><a href=\"/success-stories/category/education/\" title=\"\">Education</a></li>\n",
       "<li class=\"tier-2 element-4\" role=\"treeitem\"><a href=\"/success-stories/category/engineering/\" title=\"\">Engineering</a></li>\n",
       "<li class=\"tier-2 element-5\" role=\"treeitem\"><a href=\"/success-stories/category/government/\" title=\"\">Government</a></li>\n",
       "<li class=\"tier-2 element-6\" role=\"treeitem\"><a href=\"/success-stories/category/scientific/\" title=\"\">Scientific</a></li>\n",
       "<li class=\"tier-2 element-7\" role=\"treeitem\"><a href=\"/success-stories/category/software-development/\" title=\"\">Software Development</a></li>\n",
       "</ul>\n",
       "</li>\n",
       "<li class=\"tier-1 element-6\">\n",
       "<a href=\"/blogs/\" title=\"News from around the Python world\">News</a>\n",
       "<ul class=\"subnav menu\">\n",
       "<li class=\"tier-2 element-1\" role=\"treeitem\"><a href=\"/blogs/\" title=\"Python Insider Blog Posts\">Python News</a></li>\n",
       "<li class=\"tier-2 element-2\" role=\"treeitem\"><a href=\"/psf/newsletter/\" title=\"Python Software Foundation Newsletter\">PSF Newsletter</a></li>\n",
       "<li class=\"tier-2 element-3\" role=\"treeitem\"><a href=\"http://planetpython.org/\" title=\"Planet Python\">Community News</a></li>\n",
       "<li class=\"tier-2 element-4\" role=\"treeitem\"><a href=\"http://pyfound.blogspot.com/\" title=\"PSF Blog\">PSF News</a></li>\n",
       "<li class=\"tier-2 element-5\" role=\"treeitem\"><a href=\"http://pycon.blogspot.com/\" title=\"PyCon Blog\">PyCon News</a></li>\n",
       "</ul>\n",
       "</li>\n",
       "<li class=\"tier-1 element-7\">\n",
       "<a href=\"/events/\">Events</a>\n",
       "<ul class=\"subnav menu\">\n",
       "<li class=\"tier-2 element-1\" role=\"treeitem\"><a href=\"/events/python-events/\" title=\"\">Python Events</a></li>\n",
       "<li class=\"tier-2 element-2\" role=\"treeitem\"><a href=\"/events/python-user-group/\" title=\"\">User Group Events</a></li>\n",
       "<li class=\"tier-2 element-3\" role=\"treeitem\"><a href=\"/events/python-events/past/\" title=\"\">Python Events Archive</a></li>\n",
       "<li class=\"tier-2 element-4\" role=\"treeitem\"><a href=\"/events/python-user-group/past/\" title=\"\">User Group Events Archive</a></li>\n",
       "<li class=\"tier-2 element-5\" role=\"treeitem\"><a href=\"https://wiki.python.org/moin/PythonEventsCalendar#Submitting_an_Event\" title=\"\">Submit an Event</a></li>\n",
       "</ul>\n",
       "</li>\n",
       "<li class=\"tier-1 element-8\">\n",
       "<a href=\"/dev/\">Contributing</a>\n",
       "<ul class=\"subnav menu\">\n",
       "<li class=\"tier-2 element-1\" role=\"treeitem\"><a href=\"https://devguide.python.org/\" title=\"\">Developer's Guide</a></li>\n",
       "<li class=\"tier-2 element-2\" role=\"treeitem\"><a href=\"https://bugs.python.org/\" title=\"\">Issue Tracker</a></li>\n",
       "<li class=\"tier-2 element-3\" role=\"treeitem\"><a href=\"https://mail.python.org/mailman/listinfo/python-dev\" title=\"\">python-dev list</a></li>\n",
       "<li class=\"tier-2 element-4\" role=\"treeitem\"><a href=\"/dev/core-mentorship/\" title=\"\">Core Mentorship</a></li>\n",
       "<li class=\"tier-2 element-5\" role=\"treeitem\"><a href=\"/dev/security/\" title=\"\">Report a Security Issue</a></li>\n",
       "</ul>\n",
       "</li>\n",
       "</ul>\n",
       "<a class=\"jump-link\" href=\"#python-network\" id=\"back-to-top-2\"><span aria-hidden=\"true\" class=\"icon-arrow-up\"><span>▲</span></span> Back to Top</a>\n",
       "</div><!-- end .container -->\n",
       "</div> <!-- end .main-footer-links -->\n",
       "<div class=\"site-base\">\n",
       "<div class=\"container\">\n",
       "<ul class=\"footer-links navigation menu do-not-print\" role=\"tree\">\n",
       "<li class=\"tier-1 element-1\"><a href=\"/about/help/\">Help &amp; <span class=\"say-no-more\">General</span> Contact</a></li>\n",
       "<li class=\"tier-1 element-2\"><a href=\"/community/diversity/\">Diversity <span class=\"say-no-more\">Initiatives</span></a></li>\n",
       "<li class=\"tier-1 element-3\"><a href=\"https://github.com/python/pythondotorg/issues\">Submit Website Bug</a></li>\n",
       "<li class=\"tier-1 element-4\">\n",
       "<a href=\"https://status.python.org/\">Status <span class=\"python-status-indicator-default\" id=\"python-status-indicator\"></span></a>\n",
       "</li>\n",
       "</ul>\n",
       "<div class=\"copyright\">\n",
       "<p><small>\n",
       "<span class=\"pre\">Copyright ©2001-2022.</span>\n",
       "                             <span class=\"pre\"><a href=\"/psf-landing/\">Python Software Foundation</a></span>\n",
       "                             <span class=\"pre\"><a href=\"/about/legal/\">Legal Statements</a></span>\n",
       "                             <span class=\"pre\"><a href=\"/privacy/\">Privacy Policy</a></span>\n",
       "                             <span class=\"pre\"><a href=\"/psf/sponsorship/sponsors/#heroku\">Powered by Heroku</a></span>\n",
       "</small></p>\n",
       "</div>\n",
       "</div><!-- end .container -->\n",
       "</div><!-- end .site-base -->\n",
       "</footer>\n",
       "</div><!-- end #touchnav-wrapper -->\n",
       "<script src=\"//ajax.googleapis.com/ajax/libs/jquery/1.8.2/jquery.min.js\"></script>\n",
       "<script>window.jQuery || document.write('<script src=\"/static/js/libs/jquery-1.8.2.min.js\"><\\/script>')</script>\n",
       "<script src=\"//ajax.googleapis.com/ajax/libs/jqueryui/1.12.1/jquery-ui.min.js\"></script>\n",
       "<script>window.jQuery || document.write('<script src=\"/static/js/libs/jquery-ui-1.12.1.min.js\"><\\/script>')</script>\n",
       "<script src=\"/static/js/libs/masonry.pkgd.min.js\"></script>\n",
       "<script src=\"/static/js/libs/html-includes.js\"></script>\n",
       "<script charset=\"utf-8\" src=\"/static/js/main-min.f5487accf7ed.js\" type=\"text/javascript\"></script>\n",
       "<!--[if lte IE 7]>\n",
       "    <script type=\"text/javascript\" src=\"/static/js/plugins/IE8-min.8af6e26c7a3b.js\" charset=\"utf-8\"></script>\n",
       "    \n",
       "    \n",
       "    <![endif]-->\n",
       "<!--[if lte IE 8]>\n",
       "    <script type=\"text/javascript\" src=\"/static/js/plugins/getComputedStyle-min.d41d8cd98f00.js\" charset=\"utf-8\"></script>\n",
       "    \n",
       "    \n",
       "    <![endif]-->\n",
       "</body>"
      ]
     },
     "execution_count": 189,
     "metadata": {},
     "output_type": "execute_result"
    }
   ],
   "source": [
    "pysoup = BeautifulSoup(python.content, 'html.parser')\n",
    "pysoup.body"
   ]
  },
  {
   "cell_type": "code",
   "execution_count": 190,
   "metadata": {},
   "outputs": [
    {
     "data": {
      "text/plain": [
       "[<li class=\"python-meta current_item selectedcurrent_branch selected\">\n",
       " <a class=\"current_item selectedcurrent_branch selected\" href=\"/\" title=\"The Python Programming Language\">Python</a>\n",
       " </li>,\n",
       " <li class=\"psf-meta\">\n",
       " <a href=\"/psf-landing/\" title=\"The Python Software Foundation\">PSF</a>\n",
       " </li>,\n",
       " <li class=\"docs-meta\">\n",
       " <a href=\"https://docs.python.org\" title=\"Python Documentation\">Docs</a>\n",
       " </li>,\n",
       " <li class=\"pypi-meta\">\n",
       " <a href=\"https://pypi.org/\" title=\"Python Package Index\">PyPI</a>\n",
       " </li>,\n",
       " <li class=\"jobs-meta\">\n",
       " <a href=\"/jobs/\" title=\"Python Job Board\">Jobs</a>\n",
       " </li>,\n",
       " <li class=\"shop-meta\">\n",
       " <a href=\"/community-landing/\">Community</a>\n",
       " </li>]"
      ]
     },
     "execution_count": 190,
     "metadata": {},
     "output_type": "execute_result"
    }
   ],
   "source": [
    "pymenu = pysoup.select_one('.menu').select('li')\n",
    "pymenu"
   ]
  },
  {
   "cell_type": "code",
   "execution_count": 191,
   "metadata": {},
   "outputs": [
    {
     "name": "stdout",
     "output_type": "stream",
     "text": [
      "The Python Programming Language = Python, goes to /\n",
      "The Python Software Foundation = PSF, goes to /psf-landing/\n",
      "Python Documentation = Docs, goes to https://docs.python.org\n",
      "Python Package Index = PyPI, goes to https://pypi.org/\n",
      "Python Job Board = Jobs, goes to /jobs/\n"
     ]
    }
   ],
   "source": [
    "for item in pymenu:\n",
    "    link = item.select_one('a')\n",
    "    # print(f\"{link.attrs['title']} = {link.get_text()}\")\n",
    "    if 'title' in link.attrs:\n",
    "        print(link.attrs['title'], end=' = ')\n",
    "        print(link.get_text(), end=\", goes to \")\n",
    "        print(link.attrs['href'])"
   ]
  },
  {
   "cell_type": "code",
   "execution_count": 206,
   "metadata": {},
   "outputs": [
    {
     "data": {
      "text/plain": [
       "200"
      ]
     },
     "execution_count": 206,
     "metadata": {},
     "output_type": "execute_result"
    }
   ],
   "source": [
    "prus = requests.get('https://lt.wikipedia.org/wiki/Pr%C5%ABsija')\n",
    "prus.status_code"
   ]
  },
  {
   "cell_type": "code",
   "execution_count": 207,
   "metadata": {},
   "outputs": [],
   "source": [
    "if prus.status_code == 200:\n",
    "    prus = BeautifulSoup(prus.content, 'html.parser')\n",
    "else:\n",
    "    prus = prus.status_code\n",
    "prus"
   ]
  },
  {
   "cell_type": "code",
   "execution_count": 211,
   "metadata": {},
   "outputs": [
    {
     "name": "stdout",
     "output_type": "stream",
     "text": [
      "Geografija\n",
      "Istorija\n",
      "---- Geografija ----\n",
      "Prūsijos regionas užėmė teritoriją, šiuo metu padalintą tarp trijų valstybių. Šiaurėje jis buvo ribojamas Baltijos jūros, ir krantas čia yra labai sudėtingas, turi keletą didelių lagūnų (Kuršių marios, Aistmarės), nerijų. Rytuose Prūsija ribojosi su Lietuva, pietuose – su Mazovija, pietryčiuose – su Palenke, o vakaruose – su Pomerelija (nuo kurios skyrė Vysla). Pastarasis, dar vadinamas Vakarų Prūsija, gali būti laikoma išplėstinio Prūsijos regiono dalimi.\n",
      "\n",
      "\n",
      "---- Istorija ----\n",
      "Regionas patyrė labai sudėtingą istoriją, čia du kartus visiškai keitėsi etninė sudėtis.\n",
      "\n",
      "\n",
      "---- <h3><span id=\"Senov.C4.97s_Pr.C5.ABsija\"></span><span class=\"mw-headline\" id=\"Senovės_Prūsija\">Senovės Prūsija</span><span class=\"mw-editsection\"><span class=\"mw-editsection-bracket\">[</span><a class=\"mw-editsection-visualeditor\" href=\"/w/index.php?title=Pr%C5%ABsija&amp;veaction=edit&amp;section=3\" title=\"Redaguoti skyrelį: Senovės Prūsija\">redaguoti</a><span class=\"mw-editsection-divider\"> | </span><a href=\"/w/index.php?title=Pr%C5%ABsija&amp;action=edit&amp;section=3\" title=\"Redaguoti skyrelį: Senovės Prūsija\">redaguoti vikitekstą</a><span class=\"mw-editsection-bracket\">]</span></span></h3> ----\n",
      "Senovės Prūsija – baltiškos prūsų tautos gyventa teritorija pietryčių Pabaltijyje, tarp Vyslos ir Nemuno upių. Čia konsolidavosi ankstyvosios gentinės žemės. XIII a. Kryžiaus žygių į Prūsiją metu šią teritoriją nukariavo Vokiečių ordinas, krašte įvesta krikščionybė.\n",
      "\n",
      "\n",
      "---- <h3><span id=\"Vokie.C4.8Di.C5.B3_valdymas\"></span><span class=\"mw-headline\" id=\"Vokiečių_valdymas\">Vokiečių valdymas</span><span class=\"mw-editsection\"><span class=\"mw-editsection-bracket\">[</span><a class=\"mw-editsection-visualeditor\" href=\"/w/index.php?title=Pr%C5%ABsija&amp;veaction=edit&amp;section=4\" title=\"Redaguoti skyrelį: Vokiečių valdymas\">redaguoti</a><span class=\"mw-editsection-divider\"> | </span><a href=\"/w/index.php?title=Pr%C5%ABsija&amp;action=edit&amp;section=4\" title=\"Redaguoti skyrelį: Vokiečių valdymas\">redaguoti vikitekstą</a><span class=\"mw-editsection-bracket\">]</span></span></h3> ----\n",
      "Nuo XIII a. regione viešpatavo Vokiečių ordinas, kuris padarė Prūsiją savo politiniu ir kultūriniu centru. Be Ordino paskiras teritorijas valdė keturios nuo ordino nepriklausomos vyskupijos: Kulmo, Sembos, Varmijos ir Pamedės.\n",
      "\n",
      "\n",
      "---- <h3><span id=\"XX_am.C5.BEius\"></span><span class=\"mw-headline\" id=\"XX_amžius\">XX amžius</span><span class=\"mw-editsection\"><span class=\"mw-editsection-bracket\">[</span><a class=\"mw-editsection-visualeditor\" href=\"/w/index.php?title=Pr%C5%ABsija&amp;veaction=edit&amp;section=5\" title=\"Redaguoti skyrelį: XX amžius\">redaguoti</a><span class=\"mw-editsection-divider\"> | </span><a href=\"/w/index.php?title=Pr%C5%ABsija&amp;action=edit&amp;section=5\" title=\"Redaguoti skyrelį: XX amžius\">redaguoti vikitekstą</a><span class=\"mw-editsection-bracket\">]</span></span></h3> ----\n",
      "Po monarchijos žlugimo Vokietijoje 1918 m. Rytų Prūsija (Prūsijos regionas) išliko autonominė sudėtinė Vokietijos dalis. 1920 m. nuo regiono atskirtos šiauriausios teritorijos (vadinamasis Klaipėdos kraštas), kurios atiduotos Lietuvai. Antrąjį pasaulinį karą laimėjusių valstybių nutarimu 1947 m. vasario 25 d. (kaip esą „vokiškojo militarizmo židinys“), regionas atimtas iš Vokietijos ir padalintas dviem karą laimėjusioms valstybėms. Šiaurinė regiono dalis atiteko Rusijai, kur suformuota Kaliningrado sritis, o pietinė regiono dalis atiteko Lenkijai.\n",
      "\n",
      "\n"
     ]
    }
   ],
   "source": [
    "prusija_info = {}\n",
    "headings = []\n",
    "for heading in prus.select('h2'):\n",
    "    title = heading.select_one('span').get_text()\n",
    "    print(title)\n",
    "    content = heading.find_next('p').get_text()\n",
    "    # print(content)\n",
    "    prusija_info[title] = content\n",
    "for heading in prus.select('h3'):\n",
    "    title = heading\n",
    "    # print('-----', title)\n",
    "    content=heading.find_next('p').get_text()\n",
    "    # print(content)\n",
    "    prusija_info[title] = content\n",
    "\n",
    "for title, content in prusija_info.items():\n",
    "    print(f\"---- {title} ----\")\n",
    "    print(f\"{content}\\n\")"
   ]
  }
 ],
 "metadata": {
  "kernelspec": {
   "display_name": "venv",
   "language": "python",
   "name": "python3"
  },
  "language_info": {
   "codemirror_mode": {
    "name": "ipython",
    "version": 3
   },
   "file_extension": ".py",
   "mimetype": "text/x-python",
   "name": "python",
   "nbconvert_exporter": "python",
   "pygments_lexer": "ipython3",
   "version": "3.10.6 (tags/v3.10.6:9c7b4bd, Aug  1 2022, 21:53:49) [MSC v.1932 64 bit (AMD64)]"
  },
  "orig_nbformat": 4,
  "vscode": {
   "interpreter": {
    "hash": "e67e2de3d8b812019323eedc86f24a6ef1bbb55f6c0c6f5bdceec47b1f5cf551"
   }
  }
 },
 "nbformat": 4,
 "nbformat_minor": 2
}
